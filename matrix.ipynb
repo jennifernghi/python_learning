{
 "cells": [
  {
   "cell_type": "markdown",
   "id": "51dd2275",
   "metadata": {},
   "source": [
    "Transpose Matrix\n",
    " \n",
    "Given a 2D integer array matrix, return the transpose of matrix.\n",
    "\n",
    "The transpose of a matrix is the matrix flipped over its main diagonal, switching the matrix's row and column indices.\n",
    "\n",
    "\n",
    "\n",
    " \n",
    "\n",
    "Example 1:\n",
    "\n",
    "Input: matrix = [[1,2,3],[4,5,6],[7,8,9]]\n",
    "Output: [[1,4,7],[2,5,8],[3,6,9]]\n",
    "Example 2:\n",
    "\n",
    "Input: matrix = [[1,2,3],[4,5,6]]\n",
    "Output: [[1,4],[2,5],[3,6]]\n",
    "\n",
    "\n",
    "Problem Explanation:\n",
    "- The transpose of a matrix is obtained by swapping the rows and columns:\n",
    "- The element at position (i, j) in the original matrix becomes (j, i) in the transposed matrix.\n",
    "\n",
    "Approach:\n",
    "- If the input matrix has m rows and n columns, the transposed matrix will have n rows and m columns.\n",
    "- We create a new matrix with dimensions n x m.\n",
    "- For each element at position (i, j) in the original matrix, place it at position (j, i) in the new matrix.\n",
    "\n",
    "Time Complexity:\n",
    "O(m * n), where m is the number of rows and n is the number of columns. We iterate through all elements of the matrix once.\n",
    "\n",
    "Space Complexity:\n",
    "O(m * n) for the space required to store the transposed matrix, which has n rows and m columns."
   ]
  },
  {
   "cell_type": "code",
   "execution_count": 4,
   "id": "5c37078d",
   "metadata": {},
   "outputs": [
    {
     "name": "stdout",
     "output_type": "stream",
     "text": [
      "[[1, 4, 7], [2, 5, 8], [3, 6, 9]]\n",
      "[[1, 4], [2, 5], [3, 6]]\n"
     ]
    }
   ],
   "source": [
    " \n",
    "def transpose(matrix):\n",
    "    # Number of rows and columns in the original matrix\n",
    "    rows, cols = len(matrix), len(matrix[0])\n",
    "    \n",
    "    # Create a new matrix with swapped dimensions (cols x rows)\n",
    "    transposed = [[0] * rows for _ in range(cols)] \n",
    "    \n",
    "    # Fill the transposed matrix\n",
    "    for i in range(rows):\n",
    "        for j in range(cols):\n",
    "            transposed[j][i] = matrix[i][j]\n",
    "    \n",
    "    return transposed\n",
    "\n",
    "# Example usage:\n",
    "matrix1 = [[1, 2, 3], [4, 5, 6], [7, 8, 9]]\n",
    "matrix2 = [[1, 2, 3], [4, 5, 6]]\n",
    "\n",
    "print(transpose(matrix1))  # Output: [[1, 4, 7], [2, 5, 8], [3, 6, 9]]\n",
    "print(transpose(matrix2))  # Output: [[1, 4], [2, 5], [3, 6]]"
   ]
  },
  {
   "cell_type": "markdown",
   "id": "c1e7d6b9",
   "metadata": {},
   "source": [
    "# Richest Customer Wealth\n",
    " \n",
    "You are given an m x n integer grid accounts where accounts[i][j] is the amount of money the ith  customer has in the jth bank. Return the wealth that the richest customer has.\n",
    "\n",
    "A customer's wealth is the amount of money they have in all their bank accounts. The richest customer is the customer that has the maximum wealth.\n",
    "\n",
    " \n",
    "\n",
    "Example 1:\n",
    "\n",
    "Input: accounts = [[1,2,3],[3,2,1]]\n",
    "Output: 6\n",
    "Explanation:\n",
    "1st customer has wealth = 1 + 2 + 3 = 6\n",
    "2nd customer has wealth = 3 + 2 + 1 = 6\n",
    "Both customers are considered the richest with a wealth of 6 each, so return 6.\n",
    "Example 2:\n",
    "\n",
    "Input: accounts = [[1,5],[7,3],[3,5]]\n",
    "Output: 10\n",
    "Explanation: \n",
    "1st customer has wealth = 6\n",
    "2nd customer has wealth = 10 \n",
    "3rd customer has wealth = 8\n",
    "The 2nd customer is the richest with a wealth of 10.\n",
    "Example 3:\n",
    "\n",
    "Input: accounts = [[2,8,7],[7,1,3],[1,9,5]]\n",
    "Output: 17\n",
    "\n",
    "Time Complexity:\n",
    "O(m * n), where m is the number of customers (rows) and n is the number of banks (columns). We iterate through each element of the matrix once to compute the sum of each row.\n",
    "\n",
    "Space Complexity:\n",
    "O(1), since we are using a constant amount of extra space (we only store the maximum wealth).\n"
   ]
  },
  {
   "cell_type": "code",
   "execution_count": 5,
   "id": "65008bce",
   "metadata": {},
   "outputs": [
    {
     "name": "stdout",
     "output_type": "stream",
     "text": [
      "6\n",
      "10\n",
      "17\n"
     ]
    }
   ],
   "source": [
    "def maximumWealth(accounts):\n",
    "    # Compute the wealth of each customer and find the maximum\n",
    "    return max(sum(customer) for customer in accounts)\n",
    "\n",
    "# Example usage:\n",
    "accounts1 = [[1, 2, 3], [3, 2, 1]]\n",
    "accounts2 = [[1, 5], [7, 3], [3, 5]]\n",
    "accounts3 = [[2, 8, 7], [7, 1, 3], [1, 9, 5]]\n",
    "\n",
    "print(maximumWealth(accounts1))  # Output: 6\n",
    "print(maximumWealth(accounts2))  # Output: 10\n",
    "print(maximumWealth(accounts3))  # Output: 17\n"
   ]
  },
  {
   "cell_type": "markdown",
   "id": "551aa510",
   "metadata": {},
   "source": [
    " Determine Whether Matrix Can Be Obtained By Rotation\n",
    " \n",
    "Given two n x n binary matrices mat and target, return true if it is possible to make mat equal to target by rotating mat in 90-degree increments, or false otherwise.\n",
    "\n",
    " \n",
    "\n",
    "Example 1:\n",
    "\n",
    "\n",
    "Input: mat = [[0,1],[1,0]], target = [[1,0],[0,1]]\n",
    "Output: true\n",
    "Explanation: We can rotate mat 90 degrees clockwise to make mat equal target.\n",
    "Example 2:\n",
    "\n",
    "\n",
    "Input: mat = [[0,1],[1,1]], target = [[1,0],[0,1]]\n",
    "Output: false\n",
    "Explanation: It is impossible to make mat equal to target by rotating mat.\n",
    "Example 3:\n",
    "\n",
    "\n",
    "Input: mat = [[0,0,0],[0,1,0],[1,1,1]], target = [[1,1,1],[0,1,0],[0,0,0]]\n",
    "Output: true\n",
    "Explanation: We can rotate mat 90 degrees clockwise two times to make mat equal target.\n",
    "\n",
    "Plan:\n",
    "- First, we define a helper function that rotates the matrix by 90 degrees clockwise.\n",
    "- Then, we check if mat equals target after 0, 1, 2, or 3 rotations. ( checking these 4 distinct rotations (0°, 90°, 180°, 270°) ensures we have explored all possible outcomes for matrix equality with the target. If none of these match, no further rotations are necessary, and the answer is False.)\n",
    "- If we find that after any rotation mat is equal to target, return True. If after 4 rotations it's still not equal, return False.\n",
    "\n",
    "Steps to Rotate a Matrix by 90 Degrees:\n",
    "- For each element at position (i, j) in the matrix, after a 90-degree clockwise rotation, it moves to position (j, n-1-i) where n is the number of rows (or columns, since it's a square matrix).\n",
    "\n",
    "\n",
    "Time Complexity:\n",
    "O(n²) per rotation, where n is the size of the matrix. We perform up to 4 rotations, so the overall complexity is O(4 * n²) = O(n²).\n",
    "Space Complexity:\n",
    "O(n²) to store the rotated matrix during each rotation."
   ]
  },
  {
   "cell_type": "code",
   "execution_count": null,
   "id": "b89b4d50",
   "metadata": {},
   "outputs": [],
   "source": [
    "class Solution:\n",
    "    def findRotation(self, mat: List[List[int]], target: List[List[int]]) -> bool:\n",
    "        def rotate90(mat):\n",
    "            # Rotate matrix by 90 degrees clockwise\n",
    "            n = len(mat)\n",
    "            rotated = [[0] * n for _ in range(n)]\n",
    "            for i in range(n):\n",
    "                for j in range(n):\n",
    "                    rotated[j][n - 1 - i] = mat[i][j]\n",
    "            return rotated\n",
    "\n",
    "        for _ in range(4):\n",
    "            if mat == target:\n",
    "                return True\n",
    "            mat = rotate90(mat)  # Rotate mat by 90 degrees\n",
    "        return False\n"
   ]
  }
 ],
 "metadata": {
  "kernelspec": {
   "display_name": "Python 3 (ipykernel)",
   "language": "python",
   "name": "python3"
  },
  "language_info": {
   "codemirror_mode": {
    "name": "ipython",
    "version": 3
   },
   "file_extension": ".py",
   "mimetype": "text/x-python",
   "name": "python",
   "nbconvert_exporter": "python",
   "pygments_lexer": "ipython3",
   "version": "3.11.7"
  }
 },
 "nbformat": 4,
 "nbformat_minor": 5
}
