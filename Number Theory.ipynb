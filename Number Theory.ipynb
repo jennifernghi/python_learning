{
 "cells": [
  {
   "cell_type": "markdown",
   "id": "ec1130b5",
   "metadata": {},
   "source": [
    "Example:\n",
    "For num = 38, the function returns 2, since 3 + 8 = 11, and then 1 + 1 = 2.\n",
    "For num = 0, the function returns 0.\n",
    "This solution runs in O(1) time since it only involves a few arithmetic operations."
   ]
  },
  {
   "cell_type": "markdown",
   "id": "5b774f3f",
   "metadata": {},
   "source": []
  },
  {
   "cell_type": "code",
   "execution_count": null,
   "id": "a10e51c0",
   "metadata": {},
   "outputs": [],
   "source": [
    "def addDigits(num: int) -> int:\n",
    "    if num == 0:\n",
    "        return 0\n",
    "    return 1 + (num - 1) % 9"
   ]
  }
 ],
 "metadata": {
  "kernelspec": {
   "display_name": "Python 3 (ipykernel)",
   "language": "python",
   "name": "python3"
  },
  "language_info": {
   "codemirror_mode": {
    "name": "ipython",
    "version": 3
   },
   "file_extension": ".py",
   "mimetype": "text/x-python",
   "name": "python",
   "nbconvert_exporter": "python",
   "pygments_lexer": "ipython3",
   "version": "3.11.7"
  }
 },
 "nbformat": 4,
 "nbformat_minor": 5
}
