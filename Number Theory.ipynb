{
 "cells": [
  {
   "cell_type": "markdown",
   "id": "3b6a97c8",
   "metadata": {},
   "source": [
    "# LeetCode problem \"Add Digits\"\n",
    "Example:\n",
    "For num = 38, the function returns 2, since 3 + 8 = 11, and then 1 + 1 = 2.\n",
    "For num = 0, the function returns 0.\n",
    "This solution runs in O(1) time since it only involves a few arithmetic operations."
   ]
  },
  {
   "cell_type": "markdown",
   "id": "808590be",
   "metadata": {},
   "source": [
    "This problem can be solved using a well-known mathematical trick called digital root, which can be computed in constant time without any loops or recursion. The digital root of a number can be found using the following formula:\n",
    "\n",
    "For a given number num, the result is:\n",
    "\n",
    "If num == 0, the result is 0.\n",
    "Otherwise, the result is 1 + (num - 1) % 9.\n"
   ]
  },
  {
   "cell_type": "code",
   "execution_count": null,
   "id": "f4bae346",
   "metadata": {},
   "outputs": [],
   "source": [
    "def addDigits(num: int) -> int:\n",
    "    if num == 0:\n",
    "        return 0\n",
    "    return 1 + (num - 1) % 9"
   ]
  },
  {
   "cell_type": "markdown",
   "id": "888169c6",
   "metadata": {},
   "source": [
    "# X of a Kind in a Deck of Cards\n",
    " \n",
    "You are given an integer array deck where deck[i] represents the number written on the ith card.\n",
    "\n",
    "Partition the cards into one or more groups such that:\n",
    "\n",
    "Each group has exactly x cards where x > 1, and\n",
    "All the cards in one group have the same integer written on them.\n",
    "Return true if such partition is possible, or false otherwise.\n",
    "\n",
    " \n",
    "\n",
    "Example 1:\n",
    "\n",
    "Input: deck = [1,2,3,4,4,3,2,1]\n",
    "Output: true\n",
    "Explanation: Possible partition [1,1],[2,2],[3,3],[4,4].\n",
    "Example 2:\n",
    "\n",
    "Input: deck = [1,1,1,2,2,2,3,3]\n",
    "Output: false\n",
    "Explanation: No possible partition.\n"
   ]
  },
  {
   "cell_type": "markdown",
   "id": "43b1db04",
   "metadata": {},
   "source": [
    "Problem Understanding:\n",
    "You are given a list of integers, where each integer represents a card type, and the frequency of each integer represents how many times that card appears.\n",
    "The task is to check whether you can divide the entire deck into groups of cards, where each group has the same number of cards, and the size of each group is at least 2.\n",
    "Approach:\n",
    "To solve this optimally, we can reduce the problem to finding the greatest common divisor (GCD) of the frequencies of all card types. If the GCD of all frequencies is greater than or equal to 2, then it's possible to split the deck into equal-sized groups.\n",
    "\n",
    "Steps:\n",
    "- Count Frequencies: Use a dictionary or a Counter to count how many times each card appears in the deck.\n",
    "- Find the GCD: Compute the GCD of all the frequencies. If the GCD of all frequencies is greater than or equal to 2, then the deck can be split into valid groups.\n",
    "- Return the Result: If the GCD is ≥ 2, return True, otherwise return False."
   ]
  },
  {
   "cell_type": "code",
   "execution_count": null,
   "id": "dae33b4d",
   "metadata": {},
   "outputs": [],
   "source": [
    "from collections import Counter\n",
    "from math import gcd\n",
    "from functools import reduce\n",
    "class Solution:\n",
    "    def hasGroupsSizeX(self, deck: List[int]) -> bool:\n",
    "        # Step 1: Count frequencies of each card type\n",
    "        count = Counter(deck)\n",
    "        \n",
    "        # Step 2: Find GCD of all the frequencies\n",
    "        freq_gcd = reduce(gcd, count.values())\n",
    "        \n",
    "        # Step 3: Check if the GCD is greater than or equal to 2\n",
    "        return freq_gcd >= 2"
   ]
  },
  {
   "cell_type": "code",
   "execution_count": null,
   "id": "fcca0796",
   "metadata": {},
   "outputs": [],
   "source": []
  }
 ],
 "metadata": {
  "kernelspec": {
   "display_name": "Python 3 (ipykernel)",
   "language": "python",
   "name": "python3"
  },
  "language_info": {
   "codemirror_mode": {
    "name": "ipython",
    "version": 3
   },
   "file_extension": ".py",
   "mimetype": "text/x-python",
   "name": "python",
   "nbconvert_exporter": "python",
   "pygments_lexer": "ipython3",
   "version": "3.11.7"
  }
 },
 "nbformat": 4,
 "nbformat_minor": 5
}
