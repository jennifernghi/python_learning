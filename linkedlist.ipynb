{
 "cells": [
  {
   "cell_type": "markdown",
   "id": "04e2068f",
   "metadata": {},
   "source": [
    "Remove Linked List Elements\n",
    " \n",
    "Given the head of a linked list and an integer val, remove all the nodes of the linked list that has Node.val == val, and return the new head.\n",
    "\n",
    " \n",
    "\n",
    "Example 1:\n",
    "\n",
    "\n",
    "Input: head = [1,2,6,3,4,5,6], val = 6\n",
    "Output: [1,2,3,4,5]"
   ]
  },
  {
   "cell_type": "code",
   "execution_count": null,
   "id": "e19211ab",
   "metadata": {},
   "outputs": [],
   "source": [
    "# Definition for singly-linked list.\n",
    "# class ListNode:\n",
    "#     def __init__(self, val=0, next=None):\n",
    "#         self.val = val\n",
    "#         self.next = next\n",
    "class Solution:\n",
    "    def removeElements(self, head: Optional[ListNode], val: int) -> Optional[ListNode]:\n",
    "       \n",
    "        # Create a dummy node that points to the head\n",
    "        dummy = ListNode(next=head)\n",
    "        current = dummy\n",
    "\n",
    "        # Traverse through the linked list\n",
    "        while current.next is not None:\n",
    "            if current.next.val == val:\n",
    "                # Skip the node with the target value\n",
    "                current.next = current.next.next\n",
    "            else:\n",
    "                current = current.next\n",
    "\n",
    "        # Return the new head, which is the next node of the dummy\n",
    "        return dummy.next"
   ]
  },
  {
   "cell_type": "markdown",
   "id": "b1566b7d",
   "metadata": {},
   "source": [
    "Problem Definition\n",
    "Given the head of a singly linked list, reverse the list and return the reversed list's head.\n",
    "\n",
    "Approach\n",
    "There are two common methods to reverse a linked list:\n",
    "\n",
    "Iterative Method: Using a loop to reverse pointers."
   ]
  },
  {
   "cell_type": "code",
   "execution_count": 1,
   "id": "26fbb8e6",
   "metadata": {},
   "outputs": [
    {
     "name": "stdout",
     "output_type": "stream",
     "text": [
      "Original Linked List:\n",
      "1 -> 2 -> 3 -> 4 -> 5 -> None\n",
      "Reversed Linked List:\n",
      "5 -> 4 -> 3 -> 2 -> 1 -> None\n"
     ]
    }
   ],
   "source": [
    "class ListNode:\n",
    "    def __init__(self, val=0, next=None):\n",
    "        self.val = val\n",
    "        self.next = next\n",
    "\n",
    "def reverseList(head: ListNode) -> ListNode:\n",
    "    prev = None\n",
    "    current = head\n",
    "\n",
    "    while current is not None:\n",
    "#         Before changing current.next, save the next node in next.\n",
    "#         Point current.next to prev.\n",
    "#         Move prev and current one step forward.\n",
    "        next_node = current.next  # Store the next node\n",
    "        current.next = prev       # Reverse the link\n",
    "        prev = current            # Move prev to current\n",
    "        current = next_node       # Move to the next node\n",
    "\n",
    "    return prev  # prev will be the new head\n",
    "\n",
    "\n",
    "# Helper function to print the linked list\n",
    "def printList(head: ListNode):\n",
    "    current = head\n",
    "    while current:\n",
    "        print(current.val, end=\" -> \")\n",
    "        current = current.next\n",
    "    print(\"None\")\n",
    "\n",
    "# Creating a linked list: 1 -> 2 -> 3 -> 4 -> 5 -> None\n",
    "head = ListNode(1)\n",
    "head.next = ListNode(2)\n",
    "head.next.next = ListNode(3)\n",
    "head.next.next.next = ListNode(4)\n",
    "head.next.next.next.next = ListNode(5)\n",
    "\n",
    "print(\"Original Linked List:\")\n",
    "printList(head)\n",
    "\n",
    "# Reversing the linked list\n",
    "reversed_head = reverseList(head)\n",
    "\n",
    "print(\"Reversed Linked List:\")\n",
    "printList(reversed_head)\n"
   ]
  },
  {
   "cell_type": "markdown",
   "id": "3cf2cc15",
   "metadata": {},
   "source": [
    "Merge Two Sorted Lists\n",
    "\n",
    "To solve the Merge Two Sorted Lists problem, you need to merge two sorted linked lists into one sorted linked list. The resulting list should also be sorted.\n",
    "\n",
    "Problem Definition\n",
    "Given the heads of two sorted linked lists, merge them and return the head of the new sorted linked list.\n",
    "\n",
    "Approach\n",
    "Iterative Approach: Use a dummy node to simplify merging nodes from both lists."
   ]
  },
  {
   "cell_type": "code",
   "execution_count": 2,
   "id": "8e6b32db",
   "metadata": {},
   "outputs": [
    {
     "name": "stdout",
     "output_type": "stream",
     "text": [
      "List 1:\n",
      "1 -> 2 -> 4 -> None\n",
      "List 2:\n",
      "1 -> 3 -> 4 -> None\n",
      "Merged List:\n",
      "1 -> 1 -> 2 -> 3 -> 4 -> 4 -> None\n"
     ]
    }
   ],
   "source": [
    "class ListNode:\n",
    "    def __init__(self, val=0, next=None):\n",
    "        self.val = val\n",
    "        self.next = next\n",
    "\n",
    "def mergeTwoLists(l1: ListNode, l2: ListNode) -> ListNode:\n",
    "    # Create a dummy node to simplify the merge process\n",
    "    dummy = ListNode(0)\n",
    "    current = dummy\n",
    "\n",
    "    # While both lists have nodes\n",
    "    while l1 is not None and l2 is not None:\n",
    "        if l1.val < l2.val:\n",
    "            current.next = l1\n",
    "            l1 = l1.next\n",
    "        else:\n",
    "            current.next = l2\n",
    "            l2 = l2.next\n",
    "        current = current.next  # Move to the next node\n",
    "\n",
    "    # At least one of l1 and l2 can still have nodes at this point\n",
    "    if l1 is not None:\n",
    "        current.next = l1\n",
    "    if l2 is not None:\n",
    "        current.next = l2\n",
    "\n",
    "    # The merged list is next to the dummy node\n",
    "    return dummy.next\n",
    "\n",
    "\n",
    "# Helper function to print the linked list\n",
    "def printList(head: ListNode):\n",
    "    current = head\n",
    "    while current:\n",
    "        print(current.val, end=\" -> \")\n",
    "        current = current.next\n",
    "    print(\"None\")\n",
    "\n",
    "# Creating two sorted linked lists: 1 -> 2 -> 4 and 1 -> 3 -> 4\n",
    "l1 = ListNode(1)\n",
    "l1.next = ListNode(2)\n",
    "l1.next.next = ListNode(4)\n",
    "\n",
    "l2 = ListNode(1)\n",
    "l2.next = ListNode(3)\n",
    "l2.next.next = ListNode(4)\n",
    "\n",
    "print(\"List 1:\")\n",
    "printList(l1)\n",
    "\n",
    "print(\"List 2:\")\n",
    "printList(l2)\n",
    "\n",
    "# Merging the two sorted linked lists\n",
    "merged_head = mergeTwoLists(l1, l2)\n",
    "\n",
    "print(\"Merged List:\")\n",
    "printList(merged_head)\n"
   ]
  }
 ],
 "metadata": {
  "kernelspec": {
   "display_name": "Python 3 (ipykernel)",
   "language": "python",
   "name": "python3"
  },
  "language_info": {
   "codemirror_mode": {
    "name": "ipython",
    "version": 3
   },
   "file_extension": ".py",
   "mimetype": "text/x-python",
   "name": "python",
   "nbconvert_exporter": "python",
   "pygments_lexer": "ipython3",
   "version": "3.11.7"
  }
 },
 "nbformat": 4,
 "nbformat_minor": 5
}
