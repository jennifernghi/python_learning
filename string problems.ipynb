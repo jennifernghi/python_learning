{
 "cells": [
  {
   "cell_type": "markdown",
   "id": "9001693d",
   "metadata": {},
   "source": [
    "# Find the Index of the First Occurrence in a String\n",
    "\n",
    "Given two strings needle and haystack, return the index of the first occurrence of needle in haystack, or -1 if needle is not part of haystack.\n",
    "\n",
    " \n",
    "\n",
    "Example 1:\n",
    "\n",
    "Input: haystack = \"sadbutsad\", needle = \"sad\"\n",
    "Output: 0\n",
    "Explanation: \"sad\" occurs at index 0 and 6.\n",
    "The first occurrence is at index 0, so we return 0.\n",
    "Example 2:\n",
    "\n",
    "Input: haystack = \"leetcode\", needle = \"leeto\"\n",
    "Output: -1\n",
    "Explanation: \"leeto\" did not occur in \"leetcode\", so we return -1."
   ]
  },
  {
   "cell_type": "code",
   "execution_count": 4,
   "id": "f02c0000",
   "metadata": {},
   "outputs": [
    {
     "name": "stdout",
     "output_type": "stream",
     "text": [
      "-1\n",
      "0\n"
     ]
    }
   ],
   "source": [
    "def strStr(haystack: str, needle: str) -> int: \n",
    "        #O(n)\n",
    "        if needle == \"\":\n",
    "            return 0\n",
    "    \n",
    "        # Use the find() method to get the index of the first occurrence of the needle\n",
    "        index = haystack.find(needle)\n",
    "        \n",
    "        # Return the index (or -1 if the needle is not found)\n",
    "        return index\n",
    "    \n",
    "print(strStr(haystack = \"leetcode\", needle = \"leeto\"))\n",
    "print(strStr(haystack = \"sadbutsad\", needle = \"sad\"))"
   ]
  },
  {
   "cell_type": "code",
   "execution_count": null,
   "id": "2b29a597",
   "metadata": {},
   "outputs": [],
   "source": []
  }
 ],
 "metadata": {
  "kernelspec": {
   "display_name": "Python 3 (ipykernel)",
   "language": "python",
   "name": "python3"
  },
  "language_info": {
   "codemirror_mode": {
    "name": "ipython",
    "version": 3
   },
   "file_extension": ".py",
   "mimetype": "text/x-python",
   "name": "python",
   "nbconvert_exporter": "python",
   "pygments_lexer": "ipython3",
   "version": "3.11.7"
  }
 },
 "nbformat": 4,
 "nbformat_minor": 5
}
