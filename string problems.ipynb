{
 "cells": [
  {
   "cell_type": "markdown",
   "id": "f3522315",
   "metadata": {},
   "source": [
    "# Find the Index of the First Occurrence in a String\n",
    "\n",
    "Given two strings needle and haystack, return the index of the first occurrence of needle in haystack, or -1 if needle is not part of haystack.\n",
    "\n",
    " \n",
    "\n",
    "Example 1:\n",
    "\n",
    "Input: haystack = \"sadbutsad\", needle = \"sad\"\n",
    "Output: 0\n",
    "Explanation: \"sad\" occurs at index 0 and 6.\n",
    "The first occurrence is at index 0, so we return 0.\n",
    "Example 2:\n",
    "\n",
    "Input: haystack = \"leetcode\", needle = \"leeto\"\n",
    "Output: -1\n",
    "Explanation: \"leeto\" did not occur in \"leetcode\", so we return -1."
   ]
  },
  {
   "cell_type": "code",
   "execution_count": 4,
   "id": "6ac06ed9",
   "metadata": {},
   "outputs": [
    {
     "name": "stdout",
     "output_type": "stream",
     "text": [
      "-1\n",
      "0\n"
     ]
    }
   ],
   "source": [
    "def strStr(haystack: str, needle: str) -> int: \n",
    "        #O(n)\n",
    "        if needle == \"\":\n",
    "            return 0\n",
    "    \n",
    "        # Use the find() method to get the index of the first occurrence of the needle\n",
    "        index = haystack.find(needle)\n",
    "        \n",
    "        # Return the index (or -1 if the needle is not found)\n",
    "        return index\n",
    "    \n",
    "print(strStr(haystack = \"leetcode\", needle = \"leeto\"))\n",
    "print(strStr(haystack = \"sadbutsad\", needle = \"sad\"))"
   ]
  },
  {
   "cell_type": "markdown",
   "id": "0a500895",
   "metadata": {},
   "source": [
    "# 387. First Unique Character in a String\n",
    " \n",
    "Given a string s, find the first non-repeating character in it and return its index. If it does not exist, return -1.\n",
    "\n",
    " \n",
    "\n",
    "Example 1:\n",
    "\n",
    "Input: s = \"leetcode\"\n",
    "\n",
    "Output: 0\n",
    "\n",
    "Explanation:\n",
    "\n",
    "The character 'l' at index 0 is the first character that does not occur at any other index.\n",
    "\n",
    "Example 2:\n",
    "\n",
    "Input: s = \"loveleetcode\"\n",
    "\n",
    "Output: 2\n",
    "\n",
    "Example 3:\n",
    "\n",
    "Input: s = \"aabb\"\n",
    "\n",
    "Output: -1\n",
    "\n"
   ]
  },
  {
   "cell_type": "code",
   "execution_count": 5,
   "id": "00efe6cb",
   "metadata": {},
   "outputs": [
    {
     "name": "stdout",
     "output_type": "stream",
     "text": [
      "0\n",
      "2\n",
      "-1\n"
     ]
    }
   ],
   "source": [
    "def firstUniqChar( s: str) -> int:\n",
    "        # Step 1: Create a frequency count of each character in the string\n",
    "        char_count = {}\n",
    "        \n",
    "        for char in s:\n",
    "            char_count[char] = char_count.get(char, 0) + 1\n",
    "        \n",
    "        # Step 2: Find the first character with a count of 1\n",
    "        for index, char in enumerate(s):\n",
    "            if char_count[char] == 1:\n",
    "                return index\n",
    "        \n",
    "        # Step 3: If no unique character found, return -1\n",
    "        return -1\n",
    "    \n",
    "print(firstUniqChar(s = \"leetcode\"))\n",
    "print(firstUniqChar(s = \"loveleetcode\"))\n",
    "print(firstUniqChar(s = \"aabb\"))"
   ]
  },
  {
   "cell_type": "code",
   "execution_count": null,
   "id": "868f8499",
   "metadata": {},
   "outputs": [],
   "source": []
  }
 ],
 "metadata": {
  "kernelspec": {
   "display_name": "Python 3 (ipykernel)",
   "language": "python",
   "name": "python3"
  },
  "language_info": {
   "codemirror_mode": {
    "name": "ipython",
    "version": 3
   },
   "file_extension": ".py",
   "mimetype": "text/x-python",
   "name": "python",
   "nbconvert_exporter": "python",
   "pygments_lexer": "ipython3",
   "version": "3.11.7"
  }
 },
 "nbformat": 4,
 "nbformat_minor": 5
}
