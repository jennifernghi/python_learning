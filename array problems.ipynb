{
 "cells": [
  {
   "cell_type": "markdown",
   "id": "81c0c71a",
   "metadata": {},
   "source": [
    "# Single Number\n",
    "\n",
    "Given a non-empty array of integers nums, every element appears twice except for one. Find that single one.\n",
    "\n",
    "You must implement a solution with a linear runtime complexity and use only constant extra space.\n",
    "\n",
    " \n",
    "\n",
    "Example 1:\n",
    "\n",
    "Input: nums = [2,2,1]\n",
    "Output: 1\n",
    "Example 2:\n",
    "\n",
    "Input: nums = [4,1,2,1,2]\n",
    "Output: 4\n",
    "Example 3:\n",
    "\n",
    "Input: nums = [1]\n",
    "Output: 1"
   ]
  },
  {
   "cell_type": "code",
   "execution_count": 8,
   "id": "04c34f0f",
   "metadata": {},
   "outputs": [
    {
     "name": "stdout",
     "output_type": "stream",
     "text": [
      "0 ^ 4 = 4\n",
      "4 ^ 1 = 5\n",
      "5 ^ 2 = 7\n",
      "7 ^ 1 = 6\n",
      "6 ^ 2 = 4\n",
      "4 ^ 3 = 7\n",
      "7 ^ 3 = 4\n"
     ]
    },
    {
     "data": {
      "text/plain": [
       "4"
      ]
     },
     "execution_count": 8,
     "metadata": {},
     "output_type": "execute_result"
    }
   ],
   "source": [
    "from typing import List\n",
    "def singleNumber(nums: List[int]) -> int:\n",
    "        ans = 0\n",
    "        for i in range(0, len(nums)):\n",
    "            print(f\"{ans} ^ {nums[i]} = {ans ^ nums[i]}\")\n",
    "            ans ^=  nums[i]\n",
    "            \n",
    "        return ans\n",
    "        \n",
    "        # O(n)\n",
    "        # a xor a = 0\n",
    "        # a xor 0 = a \n",
    "        # ex1: [2, 2, 1] \n",
    "        #     0 ^ 2 = 2\n",
    "        #     2 ^ 2 = 0\n",
    "        #     0 ^ 1 = 1\n",
    "        \n",
    "# singleNumber([2,2,1])\n",
    "singleNumber([4,1,2,1,2, 3, 3])"
   ]
  },
  {
   "cell_type": "markdown",
   "id": "a27f9d71",
   "metadata": {},
   "source": [
    "# Contains Duplicate II\n",
    " \n",
    "Given an integer array nums and an integer k, return true if there are two distinct indices i and j in the array such that nums[i] == nums[j] and abs(i - j) <= k.\n",
    "\n",
    " \n",
    "\n",
    "Example 1:\n",
    "\n",
    "Input: nums = [1,2,3,1], k = 3\n",
    "Output: true\n",
    "\n",
    "Example 2:\n",
    "\n",
    "Input: nums = [1,0,1,1], k = 1\n",
    "Output: true\n",
    "\n",
    "Example 3:\n",
    "\n",
    "Input: nums = [1,2,3,1,2,3], k = 2\n",
    "Output: false\n",
    "\n",
    "## Algorithm:\n",
    "1. Use a hashmap to store the most recent index of each element.\n",
    "2. As we iterate over the array, for each element:\n",
    "   - If the element is already in the hashmap, check the difference between the current index and the stored index.\n",
    "   - If the difference is less than or equal to k, return true.\n",
    "   - Otherwise, update the hashmap with the current index of the element.\n",
    "3. If no such pair is found after the loop, return false."
   ]
  },
  {
   "cell_type": "code",
   "execution_count": 9,
   "id": "17bf935a",
   "metadata": {},
   "outputs": [
    {
     "name": "stdout",
     "output_type": "stream",
     "text": [
      "True\n",
      "True\n",
      "False\n"
     ]
    }
   ],
   "source": [
    "def containsNearbyDuplicate(nums: List[int], k: int) -> bool:\n",
    "        # Create a dictionary to store the last seen index of each element\n",
    "        index_map = {}\n",
    "\n",
    "        # Iterate through the array\n",
    "        for i, num in enumerate(nums):\n",
    "            # Check if the current element is already in the dictionary\n",
    "            if num in index_map:\n",
    "                # Check if the difference between the current index and the stored index is <= k\n",
    "                if i - index_map[num] <= k:\n",
    "                    return True\n",
    "            # Update the dictionary with the current index of the element\n",
    "            index_map[num] = i\n",
    "        \n",
    "        # If no such pair is found, return false\n",
    "        return False\n",
    "    \n",
    "print(containsNearbyDuplicate(nums = [1,2,3,1], k = 3))\n",
    "print(containsNearbyDuplicate(nums = [1,0,1,1], k = 1))\n",
    "print(containsNearbyDuplicate(nums = [1,2,3,1,2,3], k = 2))"
   ]
  },
  {
   "cell_type": "markdown",
   "id": "42c2e5a6",
   "metadata": {},
   "source": []
  },
  {
   "cell_type": "code",
   "execution_count": null,
   "id": "e83fbbc9",
   "metadata": {},
   "outputs": [],
   "source": []
  }
 ],
 "metadata": {
  "kernelspec": {
   "display_name": "Python 3 (ipykernel)",
   "language": "python",
   "name": "python3"
  },
  "language_info": {
   "codemirror_mode": {
    "name": "ipython",
    "version": 3
   },
   "file_extension": ".py",
   "mimetype": "text/x-python",
   "name": "python",
   "nbconvert_exporter": "python",
   "pygments_lexer": "ipython3",
   "version": "3.11.7"
  }
 },
 "nbformat": 4,
 "nbformat_minor": 5
}
