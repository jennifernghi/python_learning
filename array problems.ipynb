{
 "cells": [
  {
   "cell_type": "markdown",
   "id": "81c0c71a",
   "metadata": {},
   "source": [
    "# Single Number\n",
    "\n",
    "Given a non-empty array of integers nums, every element appears twice except for one. Find that single one.\n",
    "\n",
    "You must implement a solution with a linear runtime complexity and use only constant extra space.\n",
    "\n",
    " \n",
    "\n",
    "Example 1:\n",
    "\n",
    "Input: nums = [2,2,1]\n",
    "Output: 1\n",
    "Example 2:\n",
    "\n",
    "Input: nums = [4,1,2,1,2]\n",
    "Output: 4\n",
    "Example 3:\n",
    "\n",
    "Input: nums = [1]\n",
    "Output: 1"
   ]
  },
  {
   "cell_type": "code",
   "execution_count": 8,
   "id": "04c34f0f",
   "metadata": {},
   "outputs": [
    {
     "name": "stdout",
     "output_type": "stream",
     "text": [
      "0 ^ 4 = 4\n",
      "4 ^ 1 = 5\n",
      "5 ^ 2 = 7\n",
      "7 ^ 1 = 6\n",
      "6 ^ 2 = 4\n",
      "4 ^ 3 = 7\n",
      "7 ^ 3 = 4\n"
     ]
    },
    {
     "data": {
      "text/plain": [
       "4"
      ]
     },
     "execution_count": 8,
     "metadata": {},
     "output_type": "execute_result"
    }
   ],
   "source": [
    "from typing import List\n",
    "def singleNumber(nums: List[int]) -> int:\n",
    "        ans = 0\n",
    "        for i in range(0, len(nums)):\n",
    "            print(f\"{ans} ^ {nums[i]} = {ans ^ nums[i]}\")\n",
    "            ans ^=  nums[i]\n",
    "            \n",
    "        return ans\n",
    "        \n",
    "        # O(n)\n",
    "        # a xor a = 0\n",
    "        # a xor 0 = a \n",
    "        # ex1: [2, 2, 1] \n",
    "        #     0 ^ 2 = 2\n",
    "        #     2 ^ 2 = 0\n",
    "        #     0 ^ 1 = 1\n",
    "        \n",
    "# singleNumber([2,2,1])\n",
    "singleNumber([4,1,2,1,2, 3, 3])"
   ]
  },
  {
   "cell_type": "markdown",
   "id": "a27f9d71",
   "metadata": {},
   "source": [
    "# Contains Duplicate II\n",
    " \n",
    "Given an integer array nums and an integer k, return true if there are two distinct indices i and j in the array such that nums[i] == nums[j] and abs(i - j) <= k.\n",
    "\n",
    " \n",
    "\n",
    "Example 1:\n",
    "\n",
    "Input: nums = [1,2,3,1], k = 3\n",
    "Output: true\n",
    "\n",
    "Example 2:\n",
    "\n",
    "Input: nums = [1,0,1,1], k = 1\n",
    "Output: true\n",
    "\n",
    "Example 3:\n",
    "\n",
    "Input: nums = [1,2,3,1,2,3], k = 2\n",
    "Output: false\n",
    "\n",
    "## Algorithm:\n",
    "1. Use a hashmap to store the most recent index of each element.\n",
    "2. As we iterate over the array, for each element:\n",
    "   - If the element is already in the hashmap, check the difference between the current index and the stored index.\n",
    "   - If the difference is less than or equal to k, return true.\n",
    "   - Otherwise, update the hashmap with the current index of the element.\n",
    "3. If no such pair is found after the loop, return false."
   ]
  },
  {
   "cell_type": "code",
   "execution_count": 9,
   "id": "17bf935a",
   "metadata": {},
   "outputs": [
    {
     "name": "stdout",
     "output_type": "stream",
     "text": [
      "True\n",
      "True\n",
      "False\n"
     ]
    }
   ],
   "source": [
    "def containsNearbyDuplicate(nums: List[int], k: int) -> bool:\n",
    "        # Create a dictionary to store the last seen index of each element\n",
    "        index_map = {}\n",
    "\n",
    "        # Iterate through the array\n",
    "        for i, num in enumerate(nums):\n",
    "            # Check if the current element is already in the dictionary\n",
    "            if num in index_map:\n",
    "                # Check if the difference between the current index and the stored index is <= k\n",
    "                if i - index_map[num] <= k:\n",
    "                    return True\n",
    "            # Update the dictionary with the current index of the element\n",
    "            index_map[num] = i\n",
    "        \n",
    "        # If no such pair is found, return false\n",
    "        return False\n",
    "    \n",
    "print(containsNearbyDuplicate(nums = [1,2,3,1], k = 3))\n",
    "print(containsNearbyDuplicate(nums = [1,0,1,1], k = 1))\n",
    "print(containsNearbyDuplicate(nums = [1,2,3,1,2,3], k = 2))"
   ]
  },
  {
   "cell_type": "markdown",
   "id": "42c2e5a6",
   "metadata": {},
   "source": []
  },
  {
   "cell_type": "code",
   "execution_count": null,
   "id": "e83fbbc9",
   "metadata": {},
   "outputs": [],
   "source": [
    "#Merge Sorted Array\n",
    "\n",
    "class Solution:\n",
    "    def merge(self, nums1: List[int], m: int, nums2: List[int], n: int) -> None:\n",
    "        \"\"\"\n",
    "        Do not return anything, modify nums1 in-place instead.\n",
    "        \"\"\"\n",
    "        # Pointers for nums1, nums2 and the end of the merged array\n",
    "        i = m - 1  # Pointer for the last element in nums1\n",
    "        j = n - 1  # Pointer for the last element in nums2\n",
    "        k = m + n - 1  # Pointer for the last position in nums1\n",
    "        \n",
    "        # Merge in reverse order\n",
    "        while i >= 0 and j >= 0:\n",
    "            if nums1[i] > nums2[j]:\n",
    "                nums1[k] = nums1[i]\n",
    "                i -= 1\n",
    "            else:\n",
    "                nums1[k] = nums2[j]\n",
    "                j -= 1\n",
    "            k -= 1\n",
    "        \n",
    "        # If there are remaining elements in nums2, copy them\n",
    "        while j >= 0:\n",
    "            nums1[k] = nums2[j]\n",
    "            j -= 1\n",
    "            k -= 1"
   ]
  },
  {
   "cell_type": "code",
   "execution_count": null,
   "id": "1fd96eba",
   "metadata": {},
   "outputs": [],
   "source": [
    "##Majority Element\n",
    "class Solution:\n",
    "    def majorityElement(self, nums: List[int]) -> int:\n",
    "        candidate = None\n",
    "        count = 0\n",
    "        \n",
    "        for num in nums:\n",
    "            if count == 0:\n",
    "                candidate = num\n",
    "            count += (1 if num == candidate else -1)\n",
    "        \n",
    "        return candidate"
   ]
  },
  {
   "cell_type": "code",
   "execution_count": null,
   "id": "baeae4fe",
   "metadata": {},
   "outputs": [],
   "source": [
    "#Assign Cookies\n",
    "# Explanation:\n",
    "# Sorting: We sort both the greed factors and the cookie sizes to ensure we can effectively match the smallest available cookie to the greed factor of each child.\n",
    "\n",
    "# Two Pointers:\n",
    "\n",
    "# We start with both pointers (child_i for children and cookie_j for cookies) at the beginning of their respective arrays.\n",
    "# If the current cookie (s[cookie_j]) can satisfy the current child's greed (g[child_i]), we mark the child as content by incrementing content_children and move to the next child.\n",
    "# In every iteration, we always move to the next cookie regardless of whether the current cookie was assigned.\n",
    "# Time Complexity:\n",
    "# O(n log n + m log m): The sorting steps take O(n log n) for g and O(m log m) for s, where n is the length of g and m is the length of s.\n",
    "# O(n + m) for the traversal of both arrays.\n",
    "\n",
    "class Solution:\n",
    "    def findContentChildren(self, g: List[int], s: List[int]) -> int:\n",
    "        # Sort the greed factors and cookie sizes\n",
    "        g.sort()\n",
    "        s.sort()\n",
    "        \n",
    "        child_i = 0  # Pointer for children\n",
    "        cookie_j = 0  # Pointer for cookies\n",
    "        content_children = 0  # Count of content children\n",
    "        \n",
    "        # Iterate through both arrays\n",
    "        while child_i < len(g) and cookie_j < len(s):\n",
    "            if s[cookie_j] >= g[child_i]:  # If the cookie can satisfy the child\n",
    "                content_children += 1  # Increment the count of content children\n",
    "                child_i += 1  # Move to the next child\n",
    "            cookie_j += 1  # Move to the next cookie\n",
    "        \n",
    "        return content_children"
   ]
  },
  {
   "cell_type": "code",
   "execution_count": null,
   "id": "42528c7c",
   "metadata": {},
   "outputs": [],
   "source": [
    "# Array Partition\n",
    "# The logic behind the Array Partition problem is based on sorting the input array and using the \n",
    "# property of pairs to maximize the contribution of the minimum values. \n",
    "# By pairing adjacent elements after sorting, we ensure that we are making the most of the smallest elements, \n",
    "# which ultimately maximizes the sum of the minimums. \n",
    "class Solution:\n",
    "    def arrayPairSum(self, nums: List[int]) -> int:\n",
    "        nums.sort()\n",
    "        \n",
    "        # Sum the elements at even indices\n",
    "        max_sum = sum(nums[i] for i in range(0, len(nums), 2))\n",
    "        \n",
    "        return max_sum"
   ]
  },
  {
   "cell_type": "code",
   "execution_count": null,
   "id": "cb2a171c",
   "metadata": {},
   "outputs": [],
   "source": [
    "#Sort Integers by The Number of 1 Bits\n",
    "\n",
    "\n",
    "\n",
    "class Solution:\n",
    "    def sortByBits(self, arr: List[int]) -> List[int]:\n",
    "        # Define a helper function to count 1 bits\n",
    "        def count_bits(x):\n",
    "            return bin(x).count('1')\n",
    "        \n",
    "        # Sort the array with a custom key\n",
    "#         The sort function is called on arr with a custom key that is a lambda function. This function returns a tuple:\n",
    "# The first element is the count of 1 bits in the number.\n",
    "# The second element is the number itself.\n",
    "# This way, Python sorts the integers by the number of 1 bits, and in the case of ties, by their numerical value.\n",
    "        arr.sort(key=lambda x: (count_bits(x), x))\n",
    "        return arr"
   ]
  },
  {
   "cell_type": "code",
   "execution_count": null,
   "id": "a2b862ee",
   "metadata": {},
   "outputs": [],
   "source": [
    "#Group Anagrams\n",
    "\n",
    "class Solution:\n",
    "    def groupAnagrams(self, strs: List[str]) -> List[List[str]]:\n",
    "        anagrams = {}\n",
    "    \n",
    "        for s in strs:\n",
    "            # Sort the string and use it as a key\n",
    "            key = ''.join(sorted(s))\n",
    "            if key in anagrams:\n",
    "                anagrams[key].append(s)\n",
    "            else:\n",
    "                anagrams[key] = [s]\n",
    "        \n",
    "        # Return the values of the dictionary as a list of lists\n",
    "        return list(anagrams.values())"
   ]
  },
  {
   "cell_type": "code",
   "execution_count": 5,
   "id": "23da6a7b",
   "metadata": {},
   "outputs": [
    {
     "name": "stdout",
     "output_type": "stream",
     "text": [
      "9534330\n"
     ]
    }
   ],
   "source": [
    "def largestNumber(nums):\n",
    "    # Convert numbers to strings\n",
    "    nums_str = list(map(str, nums))\n",
    "    \n",
    "    # Sort the numbers based on the custom key\n",
    "    nums_str.sort(key=lambda x: x * 10, reverse=True)\n",
    "    \n",
    "    # If the largest number is '0', return '0'\n",
    "    if nums_str[0] == '0':\n",
    "        return '0'\n",
    "    \n",
    "    # Join sorted strings into the largest number\n",
    "    return ''.join(nums_str)\n",
    "\n",
    "# Example usage\n",
    "input_nums = [3, 30, 34, 5, 9]\n",
    "result = largestNumber(input_nums)\n",
    "print(result)  # Output: '9534330'\n"
   ]
  },
  {
   "cell_type": "code",
   "execution_count": null,
   "id": "e9617170",
   "metadata": {},
   "outputs": [],
   "source": [
    "#Maximum Gap\n",
    "class Solution:\n",
    "    def maximumGap(self, nums: List[int]) -> int:\n",
    "        if len(nums) < 2:\n",
    "            return 0\n",
    "        nums.sort()\n",
    "        max_gap = max(nums[i] - nums[i - 1] for i in range(1, len(nums)))\n",
    "        return max_gap"
   ]
  },
  {
   "cell_type": "code",
   "execution_count": null,
   "id": "c68d4d9f",
   "metadata": {},
   "outputs": [],
   "source": [
    "# Find Common Elements Between Two Arrays\n",
    " \n",
    "# You are given two integer arrays nums1 and nums2 of sizes n and m, respectively. Calculate the following values:\n",
    "\n",
    "# answer1 : the number of indices i such that nums1[i] exists in nums2.\n",
    "# answer2 : the number of indices i such that nums2[i] exists in nums1.\n",
    "# Return [answer1,answer2].\n",
    "\n",
    "\n",
    "\n",
    "class Solution:\n",
    "    def findIntersectionValues(self, nums1: List[int], nums2: List[int]) -> List[int]:\n",
    "        # Convert nums2 and nums1 to sets for fast lookups\n",
    "        set_nums2 = set(nums2)\n",
    "        set_nums1 = set(nums1)\n",
    "        \n",
    "        # Count how many elements in nums1 exist in nums2\n",
    "        answer1 = sum(1 for x in nums1 if x in set_nums2)\n",
    "        \n",
    "        # Count how many elements in nums2 exist in nums1\n",
    "        answer2 = sum(1 for x in nums2 if x in set_nums1)\n",
    "        \n",
    "        return [answer1, answer2]"
   ]
  }
 ],
 "metadata": {
  "kernelspec": {
   "display_name": "Python 3 (ipykernel)",
   "language": "python",
   "name": "python3"
  },
  "language_info": {
   "codemirror_mode": {
    "name": "ipython",
    "version": 3
   },
   "file_extension": ".py",
   "mimetype": "text/x-python",
   "name": "python",
   "nbconvert_exporter": "python",
   "pygments_lexer": "ipython3",
   "version": "3.11.7"
  }
 },
 "nbformat": 4,
 "nbformat_minor": 5
}
