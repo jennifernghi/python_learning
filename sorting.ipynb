{
 "cells": [
  {
   "cell_type": "markdown",
   "id": "965a3690",
   "metadata": {},
   "source": [
    "## Meeting Rooms II "
   ]
  },
  {
   "cell_type": "code",
   "execution_count": 8,
   "id": "958e154a",
   "metadata": {},
   "outputs": [
    {
     "name": "stdout",
     "output_type": "stream",
     "text": [
      "min_heap [30]\n",
      "5 30\n",
      "min_heap [10, 30]\n",
      "15 10\n",
      "2\n"
     ]
    }
   ],
   "source": [
    "import heapq\n",
    "from typing import List\n",
    "def minMeetingRooms( intervals: List[List[int]]) -> int:\n",
    "        if not intervals:\n",
    "            return 0\n",
    "\n",
    "        # Step 1: Sort the intervals by the start time\n",
    "        intervals.sort(key=lambda x: x[0])\n",
    "\n",
    "        # Step 2: Initialize a heap with the end time of the first meeting\n",
    "        min_heap = [intervals[0][1]]\n",
    "\n",
    "        # Step 3: Process each meeting room in the sorted intervals\n",
    "        for i in range(1, len(intervals)):\n",
    "            print(f\"min_heap {min_heap}\")\n",
    "            # If the room due to free up the earliest is free, remove it from the heap\n",
    "            print(f\"{intervals[i][0] } { min_heap[0]}\")\n",
    "            if intervals[i][0] >= min_heap[0]:\n",
    "                heapq.heappop(min_heap)\n",
    "\n",
    "            # Add the current meeting's end time to the heap\n",
    "            heapq.heappush(min_heap, intervals[i][1])\n",
    "            \n",
    "            \n",
    "\n",
    "        # Step 4: The size of the heap is the minimum number of rooms required\n",
    "        return len(min_heap)\n",
    "\n",
    "print(minMeetingRooms([[0,30],[5,10],[15,20]]))"
   ]
  },
  {
   "cell_type": "markdown",
   "id": "bc079a49",
   "metadata": {},
   "source": [
    "1. Problem Statement\n",
    "\n",
    "- \"The problem asks us to determine the minimum number of meeting rooms required to hold all given meetings based on their start and end times. Each meeting is represented by an interval, and if two meetings overlap, they cannot be held in the same room.\"\n",
    "\n",
    "2. Example to Illustrate\n",
    "\n",
    "- “For example, given the intervals [[0, 30], [5, 10], [15, 20]], the first meeting starts at 0 and ends at 30. The second starts at 5 and ends at 10, which overlaps with the first meeting. The third starts at 15 and ends at 20, overlapping with the first as well. Thus, we need at least two rooms to hold all these meetings.”\n",
    "\n",
    "3. Approach\n",
    "\n",
    "a. Sorting\n",
    "- \"First, we need to sort the meetings based on their start times. This helps us process the meetings in chronological order.\"\n",
    "\n",
    "b. Using a Min-Heap\n",
    "- \"Next, we use a min-heap (priority queue) to keep track of the end times of the meetings currently occupying the rooms. The top of the heap will always represent the earliest ending meeting.\"\n",
    "\n",
    "c. Iterating through Intervals\n",
    "- \"We iterate through the sorted intervals. For each meeting:\n",
    "\n",
    "- We check if the room with the earliest ending meeting is free (i.e., if the current meeting starts after or when the earliest meeting ends). If it is, we remove that meeting from the heap.\n",
    "- We then add the current meeting's end time to the heap, ensuring that we are tracking the ongoing meetings correctly.\"\n",
    "\n",
    "4. Complexity Analysis\n",
    " \n",
    "- \"The time complexity of this approach is  O(NlogN) due to the initial sorting of the intervals, followed by O(NlogN) for inserting and removing elements from the heap. \n",
    "\n",
    "- The space complexity is   O(N) for the heap, as it could potentially store all meeting end times in the worst case.\"\n",
    "\n",
    "5. Conclusion\n",
    " \n",
    "- \"By the end of the iteration, the size of the heap will give us the minimum number of meeting rooms required. This solution is efficient and effectively handles the problem of overlapping meetings.\"\n",
    "\n",
    "6. Possible Follow-Up Questions\n",
    " \n",
    "- “What if the input intervals are already sorted?”\n",
    "    - You can explain that the sorting step can be skipped if you know the input is sorted, reducing the time complexity for that case.\n",
    "\n",
    "- “How would you modify the solution if meetings could have the same start and end time?”\n",
    "    - You could mention that in this case, you would still use the same approach, as the meetings with the same start time would be processed and can occupy the same room.\n",
    "\n",
    "- “What would be the approach if we want to find the maximum number of concurrent meetings at any point in time?”\n",
    "    - You can discuss using a similar approach but focusing on counting overlaps as you process intervals."
   ]
  },
  {
   "cell_type": "code",
   "execution_count": null,
   "id": "37c8e5e0",
   "metadata": {},
   "outputs": [],
   "source": []
  }
 ],
 "metadata": {
  "kernelspec": {
   "display_name": "Python 3 (ipykernel)",
   "language": "python",
   "name": "python3"
  },
  "language_info": {
   "codemirror_mode": {
    "name": "ipython",
    "version": 3
   },
   "file_extension": ".py",
   "mimetype": "text/x-python",
   "name": "python",
   "nbconvert_exporter": "python",
   "pygments_lexer": "ipython3",
   "version": "3.11.7"
  }
 },
 "nbformat": 4,
 "nbformat_minor": 5
}
