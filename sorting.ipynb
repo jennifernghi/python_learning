{
 "cells": [
  {
   "cell_type": "markdown",
   "id": "965a3690",
   "metadata": {},
   "source": [
    "## Meeting Rooms II "
   ]
  },
  {
   "cell_type": "code",
   "execution_count": 9,
   "id": "958e154a",
   "metadata": {},
   "outputs": [
    {
     "name": "stdout",
     "output_type": "stream",
     "text": [
      "[[0, 30], [5, 10], [15, 20]]\n",
      "[30]\n",
      "2\n"
     ]
    }
   ],
   "source": [
    "import heapq\n",
    "\n",
    "def minMeetingRooms(intervals):\n",
    "    if not intervals:\n",
    "        return 0\n",
    "\n",
    "    intervals.sort(key=lambda x: x[0])\n",
    "    print(intervals)\n",
    "    heap = [intervals[0][1]] \n",
    "    print (heap)\n",
    "    for interval in intervals[1:]: \n",
    "        if interval[0] >= heap[0]:\n",
    "            heapq.heappop(heap)\n",
    "        heapq.heappush(heap, interval[1]) \n",
    "        \n",
    "    \n",
    "    return len(heap)\n",
    "\n",
    "print(minMeetingRooms([[0,30],[5,10],[15,20]]))"
   ]
  },
  {
   "cell_type": "code",
   "execution_count": 7,
   "id": "d2989f0e",
   "metadata": {},
   "outputs": [
    {
     "name": "stdout",
     "output_type": "stream",
     "text": [
      "Observer received message: Hello Observers!\n",
      "Observer received message: Hello Observers!\n"
     ]
    }
   ],
   "source": []
  },
  {
   "cell_type": "code",
   "execution_count": null,
   "id": "37c8e5e0",
   "metadata": {},
   "outputs": [],
   "source": []
  }
 ],
 "metadata": {
  "kernelspec": {
   "display_name": "Python 3 (ipykernel)",
   "language": "python",
   "name": "python3"
  },
  "language_info": {
   "codemirror_mode": {
    "name": "ipython",
    "version": 3
   },
   "file_extension": ".py",
   "mimetype": "text/x-python",
   "name": "python",
   "nbconvert_exporter": "python",
   "pygments_lexer": "ipython3",
   "version": "3.11.7"
  }
 },
 "nbformat": 4,
 "nbformat_minor": 5
}
