{
 "cells": [
  {
   "cell_type": "markdown",
   "id": "360e0dab",
   "metadata": {},
   "source": [
    "# Sum of All Subset XOR Totals\n",
    " \n",
    "The XOR total of an array is defined as the bitwise XOR of all its elements, or 0 if the array is empty.\n",
    "\n",
    "For example, the XOR total of the array [2,5,6] is 2 XOR 5 XOR 6 = 1.\n",
    "Given an array nums, return the sum of all XOR totals for every subset of nums. \n",
    "\n",
    "Note: Subsets with the same elements should be counted multiple times.\n",
    "\n",
    "An array a is a subset of an array b if a can be obtained from b by deleting some (possibly zero) elements of b.\n",
    "\n",
    " \n",
    "\n",
    "Example 1:\n",
    "\n",
    "Input: nums = [1,3]\n",
    "Output: 6\n",
    "Explanation: The 4 subsets of [1,3] are:\n",
    "- The empty subset has an XOR total of 0.\n",
    "- [1] has an XOR total of 1.\n",
    "- [3] has an XOR total of 3.\n",
    "- [1,3] has an XOR total of 1 XOR 3 = 2.\n",
    "0 + 1 + 3 + 2 = 6\n",
    "Example 2:\n",
    "\n",
    "Input: nums = [5,1,6]\n",
    "Output: 28\n",
    "Explanation: The 8 subsets of [5,1,6] are:\n",
    "- The empty subset has an XOR total of 0.\n",
    "- [5] has an XOR total of 5.\n",
    "- [1] has an XOR total of 1.\n",
    "- [6] has an XOR total of 6.\n",
    "- [5,1] has an XOR total of 5 XOR 1 = 4.\n",
    "- [5,6] has an XOR total of 5 XOR 6 = 3.\n",
    "- [1,6] has an XOR total of 1 XOR 6 = 7.\n",
    "- [5,1,6] has an XOR total of 5 XOR 1 XOR 6 = 2.\n",
    "0 + 5 + 1 + 6 + 4 + 3 + 7 + 2 = 28\n",
    "Example 3:\n",
    "\n",
    "Input: nums = [3,4,5,6,7,8]\n",
    "Output: 480\n",
    "Explanation: The sum of all XOR totals for every subset is 480."
   ]
  },
  {
   "cell_type": "markdown",
   "id": "846dca1c",
   "metadata": {},
   "source": [
    "Approach:\n",
    "more efficient approach leverages the fact that XOR has interesting properties that we can use to simplify the calculation.\n",
    "\n",
    "Steps:\n",
    "- Subset Generation: There are 2^n subsets for an array of size n. We can use recursion or bit manipulation to generate all subsets.\n",
    "- XOR for each subset: For each subset, we compute the XOR of its elements.\n",
    "- Summing all XOR values: We sum the XOR results of all subsets.\n"
   ]
  },
  {
   "cell_type": "markdown",
   "id": "42dee7d1",
   "metadata": {},
   "source": [
    "Explanation:\n",
    "backtrack function: This function recursively explores each subset of the array.\n",
    "\n",
    "index: Tracks the current element we're considering for inclusion or exclusion in the subset.\n",
    "current_xor: Stores the XOR of the current subset.\n",
    "Base case: If we've gone through all the elements (index == len(nums)), we return the XOR for that subset.\n",
    "\n",
    "Recursive case:\n",
    "\n",
    "We compute two cases for each element in the array:\n",
    "Include the current element: This XORs the current element with current_xor and moves to the next element.\n",
    "Exclude the current element: This just moves to the next element without changing current_xor.\n",
    "Final result: The sum of all XOR totals for all subsets is obtained by calling backtrack(0, 0).\n",
    "\n",
    "Time Complexity:\n",
    "There are  2^n subsets for an array of size \n",
    "n, and for each subset, we perform a constant amount of work to compute the XOR. Therefore, the time complexity of this approach is O(2^n)."
   ]
  },
  {
   "cell_type": "code",
   "execution_count": null,
   "id": "26a10627",
   "metadata": {},
   "outputs": [],
   "source": [
    "def subsetXORSum(nums: list[int]) -> int:\n",
    "    def backtrack(index: int, current_xor: int):\n",
    "        # Base case: If we've gone through all elements, add current XOR to result\n",
    "        if index == len(nums):\n",
    "            return current_xor\n",
    "        \n",
    "        # Include current element in XOR and recurse\n",
    "        include = backtrack(index + 1, current_xor ^ nums[index])\n",
    "        \n",
    "        # Exclude current element from XOR and recurse\n",
    "        exclude = backtrack(index + 1, current_xor)\n",
    "        \n",
    "        # Return the sum of including and excluding the current element\n",
    "        return include + exclude\n",
    "    \n",
    "    # Start the backtracking with initial index 0 and current XOR as 0\n",
    "    return backtrack(0, 0)\n"
   ]
  }
 ],
 "metadata": {
  "kernelspec": {
   "display_name": "Python 3 (ipykernel)",
   "language": "python",
   "name": "python3"
  },
  "language_info": {
   "codemirror_mode": {
    "name": "ipython",
    "version": 3
   },
   "file_extension": ".py",
   "mimetype": "text/x-python",
   "name": "python",
   "nbconvert_exporter": "python",
   "pygments_lexer": "ipython3",
   "version": "3.11.7"
  }
 },
 "nbformat": 4,
 "nbformat_minor": 5
}
