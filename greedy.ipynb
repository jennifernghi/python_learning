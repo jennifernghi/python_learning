{
 "cells": [
  {
   "cell_type": "markdown",
   "id": "09f74078",
   "metadata": {},
   "source": [
    "The Valid Palindrome II problem asks whether a given string can be a palindrome after deleting at most one character. To solve this using a greedy approach, we check characters from both ends of the string moving inward. If we encounter a mismatch, we can either remove the character at the left or the right index and check if the remaining substring is a palindrome.\n",
    "\n",
    "Problem Statement:\n",
    "- Given a string s, return True if the string can be a palindrome after deleting at most one character, otherwise return False.\n",
    "\n",
    "Greedy Approach:\n",
    "- Use two pointers, one starting from the beginning (left) and one from the end (right) of the string.\n",
    "- Move both pointers toward the center while checking if characters match.\n",
    "- If a mismatch occurs, try skipping either the left or the right character, and check if the resulting substring is a palindrome.\n",
    "- If no mismatches occur, the string is already a palindrome."
   ]
  },
  {
   "cell_type": "markdown",
   "id": "ddedcc51",
   "metadata": {},
   "source": [
    "Explanation:\n",
    "- is_palindrome() helper function: Checks if the substring from left to right is a palindrome by iterating inward and comparing characters.\n",
    "\n",
    "Main logic:\n",
    "- Two pointers (left and right) start at the beginning and end of the string.\n",
    "- As long as characters match, the pointers move inward.\n",
    "- If a mismatch is found, it tries to skip either the left character or the right character and checks if the resulting substring is a palindrome.\n",
    "- If either case results in a valid palindrome, return True. If not, return False.\n",
    "\n",
    "Time Complexity:\n",
    "- The solution runs in O(n), where n is the length of the string. We only perform a linear scan with the two pointers and, in case of a mismatch, we scan a potential substring once more."
   ]
  },
  {
   "cell_type": "code",
   "execution_count": 6,
   "id": "5055510f",
   "metadata": {},
   "outputs": [
    {
     "name": "stdout",
     "output_type": "stream",
     "text": [
      "False\n"
     ]
    }
   ],
   "source": [
    "def validPalindrome(s: str) -> bool:\n",
    "    def is_palindrome(substring: str, left: int, right: int) -> bool:\n",
    "        while left < right:\n",
    "            if substring[left] != substring[right]:\n",
    "                return False\n",
    "            left += 1\n",
    "            right -= 1\n",
    "        return True\n",
    "    \n",
    "    left, right = 0, len(s) - 1\n",
    "    \n",
    "    while left < right:\n",
    "        if s[left] != s[right]:\n",
    "            # Skip left character or skip right character\n",
    "            return is_palindrome(s, left + 1, right) or is_palindrome(s, left, right - 1)\n",
    "        left += 1\n",
    "        right -= 1\n",
    "    \n",
    "    return True  # If no mismatches, it's already a palindrome\n",
    "print(validPalindrome('afsaa'))"
   ]
  },
  {
   "cell_type": "code",
   "execution_count": null,
   "id": "57799985",
   "metadata": {},
   "outputs": [],
   "source": []
  }
 ],
 "metadata": {
  "kernelspec": {
   "display_name": "Python 3 (ipykernel)",
   "language": "python",
   "name": "python3"
  },
  "language_info": {
   "codemirror_mode": {
    "name": "ipython",
    "version": 3
   },
   "file_extension": ".py",
   "mimetype": "text/x-python",
   "name": "python",
   "nbconvert_exporter": "python",
   "pygments_lexer": "ipython3",
   "version": "3.11.7"
  }
 },
 "nbformat": 4,
 "nbformat_minor": 5
}
