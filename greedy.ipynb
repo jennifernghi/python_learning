{
 "cells": [
  {
   "cell_type": "markdown",
   "id": "6580eb72",
   "metadata": {},
   "source": [
    "The Valid Palindrome II problem asks whether a given string can be a palindrome after deleting at most one character. To solve this using a greedy approach, we check characters from both ends of the string moving inward. If we encounter a mismatch, we can either remove the character at the left or the right index and check if the remaining substring is a palindrome.\n",
    "\n",
    "Problem Statement:\n",
    "- Given a string s, return True if the string can be a palindrome after deleting at most one character, otherwise return False.\n",
    "\n",
    "Greedy Approach:\n",
    "- Use two pointers, one starting from the beginning (left) and one from the end (right) of the string.\n",
    "- Move both pointers toward the center while checking if characters match.\n",
    "- If a mismatch occurs, try skipping either the left or the right character, and check if the resulting substring is a palindrome.\n",
    "- If no mismatches occur, the string is already a palindrome."
   ]
  },
  {
   "cell_type": "markdown",
   "id": "619f39ed",
   "metadata": {},
   "source": [
    "Explanation:\n",
    "- is_palindrome() helper function: Checks if the substring from left to right is a palindrome by iterating inward and comparing characters.\n",
    "\n",
    "Main logic:\n",
    "- Two pointers (left and right) start at the beginning and end of the string.\n",
    "- As long as characters match, the pointers move inward.\n",
    "- If a mismatch is found, it tries to skip either the left character or the right character and checks if the resulting substring is a palindrome.\n",
    "- If either case results in a valid palindrome, return True. If not, return False.\n",
    "\n",
    "Time Complexity:\n",
    "- The solution runs in O(n), where n is the length of the string. We only perform a linear scan with the two pointers and, in case of a mismatch, we scan a potential substring once more."
   ]
  },
  {
   "cell_type": "code",
   "execution_count": 6,
   "id": "06330c35",
   "metadata": {},
   "outputs": [
    {
     "name": "stdout",
     "output_type": "stream",
     "text": [
      "False\n"
     ]
    }
   ],
   "source": [
    "def validPalindrome(s: str) -> bool:\n",
    "    def is_palindrome(substring: str, left: int, right: int) -> bool:\n",
    "        while left < right:\n",
    "            if substring[left] != substring[right]:\n",
    "                return False\n",
    "            left += 1\n",
    "            right -= 1\n",
    "        return True\n",
    "    \n",
    "    left, right = 0, len(s) - 1\n",
    "    \n",
    "    while left < right:\n",
    "        if s[left] != s[right]:\n",
    "            # Skip left character or skip right character\n",
    "            return is_palindrome(s, left + 1, right) or is_palindrome(s, left, right - 1)\n",
    "        left += 1\n",
    "        right -= 1\n",
    "    \n",
    "    return True  # If no mismatches, it's already a palindrome\n",
    "print(validPalindrome('afsaa'))"
   ]
  },
  {
   "cell_type": "markdown",
   "id": "9bed7f4b",
   "metadata": {},
   "source": [
    "The Largest Perimeter Triangle problem asks to find the largest perimeter of a triangle that can be formed using three lengths from a given list of integers. If no triangle can be formed, return 0.\n",
    "\n",
    "Problem Breakdown:\n",
    "- For three lengths to form a valid triangle, they must satisfy the triangle inequality theorem, which states that for any triangle with sides a, b, and c (where a <= b <= c):\n",
    "𝑎 + 𝑏 > 𝑐\n",
    "\n",
    "Greedy Approach:\n",
    "\n",
    "To maximize the perimeter, we need to use the largest possible sides first. Therefore, the greedy approach involves:\n",
    "\n",
    "- Sorting the array in descending order so that we can attempt to form triangles starting from the largest sides.\n",
    "- Iterate through the sorted list and check the triangle inequality for each triplet of consecutive sides. If they form a valid triangle, return their perimeter.\n",
    "- If no valid triangle can be formed, return 0.\n",
    "\n",
    "Steps:\n",
    "- Sort the list of sides in descending order.\n",
    "- For each triplet of sides, check if they satisfy the triangle inequality.\n",
    "- If a valid triangle is found, calculate the perimeter and return it.\n",
    "- If no such triplet is found, return 0.\n",
    "\n",
    "Explanation:\n",
    "- Sorting the array: Sorting in descending order ensures that we start with the largest possible sides for a potential triangle, which maximizes the perimeter.\n",
    "- Checking the triangle inequality: For each triplet (nums[i], nums[i+1], nums[i+2]), we check if they satisfy the condition nums[i] < nums[i+1] + nums[i+2]. If they do, then the sides form a valid triangle, and we return the sum (perimeter).\n",
    "- Return 0 if no triangle is found: If no triplet satisfies the triangle inequality, return 0.\n",
    "\n",
    "\n",
    "Time Complexity:\n",
    "- Sorting takes O(n log n), where n is the number of elements in the list.\n",
    "- Checking each triplet takes O(n) time, so the total time complexity is O(n log n)."
   ]
  },
  {
   "cell_type": "code",
   "execution_count": 8,
   "id": "0344d06d",
   "metadata": {},
   "outputs": [
    {
     "name": "stdout",
     "output_type": "stream",
     "text": [
      "5\n"
     ]
    }
   ],
   "source": [
    "def largestPerimeter(nums):\n",
    "    # Sort the sides in descending order\n",
    "    nums.sort(reverse=True)\n",
    "    \n",
    "    # Check every triplet starting from the largest\n",
    "    for i in range(len(nums) - 2):\n",
    "        if nums[i] < nums[i + 1] + nums[i + 2]:  # Triangle inequality condition\n",
    "            return nums[i] + nums[i + 1] + nums[i + 2]  # Return the perimeter\n",
    "    \n",
    "    return 0  # If no valid triangle is found\n",
    "\n",
    "print(largestPerimeter([1,2,2]))"
   ]
  }
 ],
 "metadata": {
  "kernelspec": {
   "display_name": "Python 3 (ipykernel)",
   "language": "python",
   "name": "python3"
  },
  "language_info": {
   "codemirror_mode": {
    "name": "ipython",
    "version": 3
   },
   "file_extension": ".py",
   "mimetype": "text/x-python",
   "name": "python",
   "nbconvert_exporter": "python",
   "pygments_lexer": "ipython3",
   "version": "3.11.7"
  }
 },
 "nbformat": 4,
 "nbformat_minor": 5
}
