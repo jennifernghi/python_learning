{
 "cells": [
  {
   "cell_type": "code",
   "execution_count": null,
   "id": "907611a7",
   "metadata": {},
   "outputs": [],
   "source": [
    "#Binary Search\n",
    "class Solution:\n",
    "    def search(self, nums: List[int], target: int) -> int:\n",
    "        left, right = 0, len(nums) - 1\n",
    "\n",
    "        while left <= right:\n",
    "            mid = left + (right - left) // 2  # Prevents overflow\n",
    "            if nums[mid] == target:\n",
    "                return mid\n",
    "            elif nums[mid] < target:\n",
    "                left = mid + 1\n",
    "            else:\n",
    "                right = mid - 1\n",
    "\n",
    "        return -1  # Target not found"
   ]
  },
  {
   "cell_type": "code",
   "execution_count": null,
   "id": "438fc964",
   "metadata": {},
   "outputs": [],
   "source": [
    "#Search in Rotated Sorted Array\n",
    "\n",
    "class Solution:\n",
    "    def search(self, nums: List[int], target: int) -> int:\n",
    "        left, right = 0, len(nums) - 1\n",
    "\n",
    "        while left <= right:\n",
    "            mid = left + (right - left) // 2\n",
    "            \n",
    "            if nums[mid] == target:\n",
    "                return mid\n",
    "            \n",
    "            # Check if the left side is sorted\n",
    "            if nums[left] <= nums[mid]:\n",
    "                if nums[left] <= target < nums[mid]:\n",
    "                    right = mid - 1\n",
    "                else:\n",
    "                    left = mid + 1\n",
    "            # The right side is sorted\n",
    "            else:\n",
    "                if nums[mid] < target <= nums[right]:\n",
    "                    left = mid + 1\n",
    "                else:\n",
    "                    right = mid - 1\n",
    "\n",
    "        return -1  # Target not found"
   ]
  },
  {
   "cell_type": "code",
   "execution_count": 1,
   "id": "8e80b022",
   "metadata": {},
   "outputs": [
    {
     "name": "stdout",
     "output_type": "stream",
     "text": [
      "2\n",
      "4\n",
      "6\n"
     ]
    }
   ],
   "source": [
    "#Element Appearing More Than 25% In Sorted Array\n",
    "\n",
    "def findSpecialInteger(arr):\n",
    "    n = len(arr)\n",
    "    threshold = n // 4\n",
    "    \n",
    "    for i in [n // 4, n // 2, 3 * n // 4]:\n",
    "        print(i)\n",
    "        if arr.count(arr[i]) > threshold:\n",
    "            return arr[i]\n",
    "\n",
    "# Example Usage\n",
    "arr = [1,2,2,6,6,6,6,7,10]\n",
    "print(findSpecialInteger(arr))  # Output: 6"
   ]
  },
  {
   "cell_type": "code",
   "execution_count": null,
   "id": "da8cc53e",
   "metadata": {},
   "outputs": [],
   "source": [
    "#Find First and Last Position of Element in Sorted Array\n",
    "\n",
    "class Solution:\n",
    "    def searchRange(self, nums: List[int], target: int) -> List[int]:\n",
    "        def find_first(nums, target):\n",
    "            left, right = 0, len(nums) - 1\n",
    "            first_position = -1\n",
    "            \n",
    "            while left <= right:\n",
    "                mid = left + (right - left) // 2\n",
    "                if nums[mid] == target:\n",
    "                    first_position = mid\n",
    "                    right = mid - 1  # Continue searching to the left\n",
    "                elif nums[mid] < target:\n",
    "                    left = mid + 1\n",
    "                else:\n",
    "                    right = mid - 1\n",
    "            \n",
    "            return first_position\n",
    "        \n",
    "        def find_last(nums, target):\n",
    "            left, right = 0, len(nums) - 1\n",
    "            last_position = -1\n",
    "            \n",
    "            while left <= right:\n",
    "                mid = left + (right - left) // 2\n",
    "                if nums[mid] == target:\n",
    "                    last_position = mid\n",
    "                    left = mid + 1  # Continue searching to the right\n",
    "                elif nums[mid] < target:\n",
    "                    left = mid + 1\n",
    "                else:\n",
    "                    right = mid - 1\n",
    "            \n",
    "            return last_position\n",
    "\n",
    "        first_pos = find_first(nums, target)\n",
    "        if first_pos == -1:\n",
    "            return [-1, -1]  # Target not found\n",
    "        \n",
    "        last_pos = find_last(nums, target)\n",
    "        \n",
    "        return [first_pos, last_pos]"
   ]
  }
 ],
 "metadata": {
  "kernelspec": {
   "display_name": "Python 3 (ipykernel)",
   "language": "python",
   "name": "python3"
  },
  "language_info": {
   "codemirror_mode": {
    "name": "ipython",
    "version": 3
   },
   "file_extension": ".py",
   "mimetype": "text/x-python",
   "name": "python",
   "nbconvert_exporter": "python",
   "pygments_lexer": "ipython3",
   "version": "3.11.7"
  }
 },
 "nbformat": 4,
 "nbformat_minor": 5
}
