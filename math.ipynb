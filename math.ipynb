{
 "cells": [
  {
   "cell_type": "markdown",
   "id": "991ac9ee",
   "metadata": {},
   "source": [
    "# Palindrome Number\n",
    " \n",
    "Given an integer x, return true if x is a \n",
    "palindrome, and false otherwise.\n",
    "\n",
    " \n",
    "\n",
    "Example 1:\n",
    "\n",
    "Input: x = 121\n",
    "Output: true\n",
    "Explanation: 121 reads as 121 from left to right and from right to left.\n",
    "Example 2:\n",
    "\n",
    "Input: x = -121\n",
    "Output: false\n",
    "Explanation: From left to right, it reads -121. From right to left, it becomes 121-. Therefore it is not a palindrome.\n",
    "Example 3:\n",
    "\n",
    "Input: x = 10\n",
    "Output: false\n",
    "Explanation: Reads 01 from right to left. Therefore it is not a palindrome.\n",
    "  \n",
    "Follow up: Could you solve it without converting the integer to a string?"
   ]
  },
  {
   "cell_type": "markdown",
   "id": "74f6c816",
   "metadata": {},
   "source": [
    "Explanation:\n",
    "\n",
    "Initial Checks:\n",
    "- If x is negative, it cannot be a palindrome.\n",
    "- If x ends in a 0, it cannot be a palindrome unless x == 0.\n",
    "\n",
    "Reversing Half of the Number:\n",
    "- We extract the last digit of x (x % 10) and append it to reversed_half.\n",
    "- We remove the last digit from x (x //= 10).\n",
    "- We stop when reversed_half becomes greater than or equal to x. At this point, we have reversed half of the digits.\n",
    "\n",
    "Comparison:\n",
    "- If the number is a palindrome, the two halves should be equal, i.e., x == reversed_half.\n",
    "- For odd-length numbers (e.g., 12321), we can remove the middle digit by doing reversed_half // 10 and then compare with x.\n",
    "\n",
    "Example Walkthrough:\n",
    "\n",
    "Input: x = 1221\n",
    "\n",
    "- reversed_half = 0\n",
    "- After first iteration: x = 122, reversed_half = 1\n",
    "- After second iteration: x = 12, reversed_half = 12 (stop since x <= reversed_half)\n",
    "- Since x == reversed_half, return True.\n",
    "\n",
    "Input: x = 12321\n",
    "- reversed_half = 0\n",
    "- After first iteration: x = 1232, reversed_half = 1\n",
    "- After second iteration: x = 123, reversed_half = 12\n",
    "- After third iteration: x = 12, reversed_half = 123 (stop since x < reversed_half)\n",
    "- Since x == reversed_half // 10, return True.\n",
    "\n",
    "Time Complexity:\n",
    "- O(log(x)): We are processing half of the digits of x, and the number of digits is proportional to log(x).\n",
    "\n",
    "Space Complexity:\n",
    "- O(1): We are using a constant amount of extra space for variables like reversed_half."
   ]
  },
  {
   "cell_type": "code",
   "execution_count": 5,
   "id": "700cde89",
   "metadata": {},
   "outputs": [
    {
     "name": "stdout",
     "output_type": "stream",
     "text": [
      "False\n",
      "True\n",
      "False\n"
     ]
    }
   ],
   "source": [
    "def isPalindrome(x: int) -> bool:\n",
    "    # Special cases:\n",
    "    # 1. Negative numbers are not palindromes\n",
    "    # 2. Numbers ending with 0 (except 0) are not palindromes\n",
    "    if x < 0 or (x % 10 == 0 and x != 0):\n",
    "        return False\n",
    "    \n",
    "    reversed_half = 0\n",
    "    while x > reversed_half:\n",
    "        reversed_half = reversed_half * 10 + x % 10  \n",
    "        x //= 10\n",
    "    \n",
    "    # If the number is a palindrome, the original number (x) will be equal to the reversed half\n",
    "    # or the reversed_half will be x // 10 in case of an odd number of digits (e.g., 12321).\n",
    "    return x == reversed_half or x == reversed_half // 10\n",
    "\n",
    "print(isPalindrome(123))\n",
    "print(isPalindrome(121))\n",
    "print(isPalindrome(-121))"
   ]
  },
  {
   "cell_type": "markdown",
   "id": "72150e71",
   "metadata": {},
   "source": [
    "# Rotate Image\n",
    "https://leetcode.com/problems/rotate-image/description/?envType=problem-list-v2&envId=math\n",
    "\n",
    "You are given an n x n 2D matrix representing an image, rotate the image by 90 degrees (clockwise).\n",
    "\n",
    "You have to rotate the image in-place, which means you have to modify the input 2D matrix directly. DO NOT allocate another 2D matrix and do the rotation.\n",
    "\n",
    "To solve the problem of rotating an n x n matrix by 90 degrees clockwise in place, we can follow these steps:\n",
    "\n",
    "Approach\n",
    "- Transpose the matrix: In a transpose of a matrix, we swap each element at position (i, j) with the element at position (j, i). This step converts rows into columns.\n",
    "\n",
    "- Reverse each row: After transposing, reversing each row gives us the rotated matrix. This simulates the 90-degree clockwise rotation.\n",
    "\n",
    "Algorithm\n",
    "- First, transpose the matrix.\n",
    "- Then, reverse each row of the transposed matrix.\n",
    " \n",
    "Example 1:\n",
    "\n",
    "\n",
    "- Input: matrix = [[1,2,3],[4,5,6],[7,8,9]]\n",
    "- Output: [[7,4,1],[8,5,2],[9,6,3]]\n",
    "\n",
    "Example 2:\n",
    "\n",
    "- Input: matrix = [[5,1,9,11],[2,4,8,10],[13,3,6,7],[15,14,12,16]]\n",
    "- Output: [[15,13,2,5],[14,3,4,1],[12,6,8,9],[16,7,10,11]]\n",
    " "
   ]
  },
  {
   "cell_type": "code",
   "execution_count": 6,
   "id": "391b8bb7",
   "metadata": {},
   "outputs": [
    {
     "name": "stdout",
     "output_type": "stream",
     "text": [
      "[[7, 4, 1], [8, 5, 2], [9, 6, 3]]\n"
     ]
    }
   ],
   "source": [
    "def rotate(matrix):\n",
    "    n = len(matrix)\n",
    "    \n",
    "    # Transpose the matrix\n",
    "    for i in range(n):\n",
    "        for j in range(i, n):\n",
    "            matrix[i][j], matrix[j][i] = matrix[j][i], matrix[i][j]\n",
    "    \n",
    "    # Reverse each row\n",
    "    for i in range(n):\n",
    "        matrix[i].reverse()\n",
    "\n",
    "# Example usage:\n",
    "matrix = [\n",
    "    [1, 2, 3],\n",
    "    [4, 5, 6],\n",
    "    [7, 8, 9]\n",
    "]\n",
    "\n",
    "rotate(matrix)\n",
    "print(matrix)\n"
   ]
  },
  {
   "cell_type": "markdown",
   "id": "23901d6a",
   "metadata": {},
   "source": [
    "Explanation\n",
    "\n",
    "Transpose:\n",
    "- Swapping elements along the diagonal:\n",
    "\n",
    "- Original Matrix:\n",
    "   - [1, 2, 3]\n",
    "   - [4, 5, 6]\n",
    "   - [7, 8, 9]\n",
    "\n",
    "- After Transpose:\n",
    "    - [1, 4, 7]\n",
    "    - [2, 5, 8]\n",
    "    - [3, 6, 9]\n",
    "\n",
    "Reverse Each Row:\n",
    "- Reversing the rows of the transposed matrix: \n",
    "    - [7, 4, 1]\n",
    "    - [8, 5, 2]\n",
    "    - [9, 6, 3]\n",
    "- This gives us the 90-degree rotated matrix.\n",
    "\n",
    "Time Complexity:\n",
    "- Transpose: O(n²) because we iterate through all elements above the diagonal.\n",
    "- Reverse rows: O(n²) because each row contains n elements, and we reverse n rows.\n",
    "- Thus, the overall time complexity is O(n²).\n",
    "\n",
    "Space Complexity:\n",
    "- The solution works in-place, so the space complexity is O(1) (no extra space is used aside from a few variables)."
   ]
  },
  {
   "cell_type": "markdown",
   "id": "305b09ab",
   "metadata": {},
   "source": [
    "# Climbing Stairs\n",
    " https://leetcode.com/problems/climbing-stairs/description/?envType=problem-list-v2&envId=math\n",
    " \n",
    "You are climbing a staircase. It takes n steps to reach the top.\n",
    "\n",
    "Each time you can either climb 1 or 2 steps. In how many distinct ways can you climb to the top?\n",
    "\n",
    " \n",
    "\n",
    "Example 1:\n",
    "\n",
    "- Input: n = 2\n",
    "- Output: 2\n",
    "- Explanation: There are two ways to climb to the top.\n",
    "    - 1. 1 step + 1 step\n",
    "    - 2. 2 steps\n",
    "\n",
    "Example 2:\n",
    "\n",
    "- Input: n = 3\n",
    "- Output: 3\n",
    "- Explanation: There are three ways to climb to the top.\n",
    "    - 1. 1 step + 1 step + 1 step\n",
    "    - 2. 1 step + 2 steps\n",
    "    - 3. 2 steps + 1 step"
   ]
  },
  {
   "cell_type": "code",
   "execution_count": 7,
   "id": "1fc14434",
   "metadata": {},
   "outputs": [
    {
     "name": "stdout",
     "output_type": "stream",
     "text": [
      "3\n"
     ]
    }
   ],
   "source": [
    "def climbStairs(n):\n",
    "    if n <= 1:\n",
    "        return 1\n",
    "    \n",
    "    prev1, prev2 = 1, 1  # prev1 is ways to reach step 1, prev2 is ways to reach step 0\n",
    "    \n",
    "    for i in range(2, n + 1):\n",
    "        current = prev1 + prev2  # Current step is sum of last two steps\n",
    "        prev2 = prev1  # Move prev1 to prev2\n",
    "        prev1 = current  # Current becomes the new prev1\n",
    "    \n",
    "    return prev1  # prev1 holds the number of ways to reach step n\n",
    "\n",
    "print(3)"
   ]
  },
  {
   "cell_type": "markdown",
   "id": "fc2e1ae5",
   "metadata": {},
   "source": [
    "Example Walkthrough\n",
    "Let's take n = 3 as an example:\n",
    "\n",
    "- Step 0: There is 1 way to stay at step 0 (prev2 = 1).\n",
    "- Step 1: There is 1 way to reach step 1 (prev1 = 1).\n",
    "- Step 2: current = prev1 + prev2 = 1 + 1 = 2\n",
    "- Update: prev2 = prev1 (i.e., prev2 = 1), prev1 = current (i.e., prev1 = 2)\n",
    "- Step 3: current = prev1 + prev2 = 2 + 1 = 3\n",
    "- Update: prev2 = prev1 (i.e., prev2 = 2), prev1 = current (i.e., prev1 = 3)\n",
    "- At the end of the loop, prev1 = 3, which is the answer. There are 3 distinct ways to reach step 3.\n",
    "\n",
    "Time Complexity\n",
    "- O(n): We compute the number of ways for each step from 2 to n, making the time complexity proportional to n.\n",
    "\n",
    "Space Complexity\n",
    "- O(1): Instead of maintaining an entire array, we only use two variables (prev1 and prev2), which require constant space regardless of the input size.\n",
    "\n",
    "Summary\n",
    "- The space-optimized solution works by:\n",
    "- Using two variables to track the number of ways to reach the last two steps.\n",
    "- Iteratively updating these variables to compute the number of ways to reach the current step.\n",
    "- This reduces the space complexity from O(n) to O(1), while maintaining the same O(n) time complexity."
   ]
  },
  {
   "cell_type": "code",
   "execution_count": null,
   "id": "f36c678a",
   "metadata": {},
   "outputs": [],
   "source": []
  }
 ],
 "metadata": {
  "kernelspec": {
   "display_name": "Python 3 (ipykernel)",
   "language": "python",
   "name": "python3"
  },
  "language_info": {
   "codemirror_mode": {
    "name": "ipython",
    "version": 3
   },
   "file_extension": ".py",
   "mimetype": "text/x-python",
   "name": "python",
   "nbconvert_exporter": "python",
   "pygments_lexer": "ipython3",
   "version": "3.11.7"
  }
 },
 "nbformat": 4,
 "nbformat_minor": 5
}
