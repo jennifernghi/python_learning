{
 "cells": [
  {
   "cell_type": "markdown",
   "id": "991ac9ee",
   "metadata": {},
   "source": [
    "# Palindrome Number\n",
    " \n",
    "Given an integer x, return true if x is a \n",
    "palindrome, and false otherwise.\n",
    "\n",
    " \n",
    "\n",
    "Example 1:\n",
    "\n",
    "Input: x = 121\n",
    "Output: true\n",
    "Explanation: 121 reads as 121 from left to right and from right to left.\n",
    "Example 2:\n",
    "\n",
    "Input: x = -121\n",
    "Output: false\n",
    "Explanation: From left to right, it reads -121. From right to left, it becomes 121-. Therefore it is not a palindrome.\n",
    "Example 3:\n",
    "\n",
    "Input: x = 10\n",
    "Output: false\n",
    "Explanation: Reads 01 from right to left. Therefore it is not a palindrome.\n",
    "  \n",
    "Follow up: Could you solve it without converting the integer to a string?"
   ]
  },
  {
   "cell_type": "markdown",
   "id": "74f6c816",
   "metadata": {},
   "source": [
    "Explanation:\n",
    "\n",
    "Initial Checks:\n",
    "- If x is negative, it cannot be a palindrome.\n",
    "- If x ends in a 0, it cannot be a palindrome unless x == 0.\n",
    "\n",
    "Reversing Half of the Number:\n",
    "- We extract the last digit of x (x % 10) and append it to reversed_half.\n",
    "- We remove the last digit from x (x //= 10).\n",
    "- We stop when reversed_half becomes greater than or equal to x. At this point, we have reversed half of the digits.\n",
    "\n",
    "Comparison:\n",
    "- If the number is a palindrome, the two halves should be equal, i.e., x == reversed_half.\n",
    "- For odd-length numbers (e.g., 12321), we can remove the middle digit by doing reversed_half // 10 and then compare with x.\n",
    "\n",
    "Example Walkthrough:\n",
    "\n",
    "Input: x = 1221\n",
    "\n",
    "- reversed_half = 0\n",
    "- After first iteration: x = 122, reversed_half = 1\n",
    "- After second iteration: x = 12, reversed_half = 12 (stop since x <= reversed_half)\n",
    "- Since x == reversed_half, return True.\n",
    "\n",
    "Input: x = 12321\n",
    "- reversed_half = 0\n",
    "- After first iteration: x = 1232, reversed_half = 1\n",
    "- After second iteration: x = 123, reversed_half = 12\n",
    "- After third iteration: x = 12, reversed_half = 123 (stop since x < reversed_half)\n",
    "- Since x == reversed_half // 10, return True.\n",
    "\n",
    "Time Complexity:\n",
    "- O(log(x)): We are processing half of the digits of x, and the number of digits is proportional to log(x).\n",
    "\n",
    "Space Complexity:\n",
    "- O(1): We are using a constant amount of extra space for variables like reversed_half."
   ]
  },
  {
   "cell_type": "code",
   "execution_count": 5,
   "id": "700cde89",
   "metadata": {},
   "outputs": [
    {
     "name": "stdout",
     "output_type": "stream",
     "text": [
      "False\n",
      "True\n",
      "False\n"
     ]
    }
   ],
   "source": [
    "def isPalindrome(x: int) -> bool:\n",
    "    # Special cases:\n",
    "    # 1. Negative numbers are not palindromes\n",
    "    # 2. Numbers ending with 0 (except 0) are not palindromes\n",
    "    if x < 0 or (x % 10 == 0 and x != 0):\n",
    "        return False\n",
    "    \n",
    "    reversed_half = 0\n",
    "    while x > reversed_half:\n",
    "        reversed_half = reversed_half * 10 + x % 10  \n",
    "        x //= 10\n",
    "    \n",
    "    # If the number is a palindrome, the original number (x) will be equal to the reversed half\n",
    "    # or the reversed_half will be x // 10 in case of an odd number of digits (e.g., 12321).\n",
    "    return x == reversed_half or x == reversed_half // 10\n",
    "\n",
    "print(isPalindrome(123))\n",
    "print(isPalindrome(121))\n",
    "print(isPalindrome(-121))"
   ]
  },
  {
   "cell_type": "code",
   "execution_count": null,
   "id": "4433ebef",
   "metadata": {},
   "outputs": [],
   "source": []
  }
 ],
 "metadata": {
  "kernelspec": {
   "display_name": "Python 3 (ipykernel)",
   "language": "python",
   "name": "python3"
  },
  "language_info": {
   "codemirror_mode": {
    "name": "ipython",
    "version": 3
   },
   "file_extension": ".py",
   "mimetype": "text/x-python",
   "name": "python",
   "nbconvert_exporter": "python",
   "pygments_lexer": "ipython3",
   "version": "3.11.7"
  }
 },
 "nbformat": 4,
 "nbformat_minor": 5
}
