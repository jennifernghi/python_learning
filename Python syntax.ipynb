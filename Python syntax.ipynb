{
 "cells": [
  {
   "cell_type": "code",
   "execution_count": 2,
   "id": "a06446bc",
   "metadata": {},
   "outputs": [
    {
     "name": "stdout",
     "output_type": "stream",
     "text": [
      "[8, 8, 8, 8, 8]\n"
     ]
    }
   ],
   "source": [
    "def generate_functions():\n",
    "    functions = []\n",
    "    for i in range(5):\n",
    "        # Each function captures the current value of i\n",
    "        def f(x):\n",
    "            return x * i\n",
    "        functions.append(f)\n",
    "    return functions\n",
    " \n",
    "\n",
    "# Call each function with 2\n",
    "results = [f(2) for f in generate_functions()]\n",
    "print(results)\n",
    "\n"
   ]
  },
  {
   "cell_type": "code",
   "execution_count": null,
   "id": "2bfe2a3e",
   "metadata": {},
   "outputs": [],
   "source": []
  }
 ],
 "metadata": {
  "kernelspec": {
   "display_name": "Python 3 (ipykernel)",
   "language": "python",
   "name": "python3"
  },
  "language_info": {
   "codemirror_mode": {
    "name": "ipython",
    "version": 3
   },
   "file_extension": ".py",
   "mimetype": "text/x-python",
   "name": "python",
   "nbconvert_exporter": "python",
   "pygments_lexer": "ipython3",
   "version": "3.11.7"
  }
 },
 "nbformat": 4,
 "nbformat_minor": 5
}
