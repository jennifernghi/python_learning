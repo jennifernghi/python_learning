{
 "cells": [
  {
   "cell_type": "code",
   "execution_count": null,
   "id": "a7cf028e",
   "metadata": {},
   "outputs": [],
   "source": [
    "# Definition for a binary tree node.\n",
    "# class TreeNode:\n",
    "#     def __init__(self, val=0, left=None, right=None):\n",
    "#         self.val = val\n",
    "#         self.left = left\n",
    "#         self.right = right\n",
    "class Solution:\n",
    "    def preorderTraversal(self, root: Optional[TreeNode]) -> List[int]:\n",
    "        result = []\n",
    "        def travel(node):\n",
    "            if node:\n",
    "                result.append(node.val)\n",
    "                travel(node.left)\n",
    "                travel(node.right)\n",
    "\n",
    "        travel(root)\n",
    "        return result"
   ]
  },
  {
   "cell_type": "code",
   "execution_count": null,
   "id": "25fcc579",
   "metadata": {},
   "outputs": [],
   "source": [
    "class Solution:\n",
    "    def postorderTraversal(self, root: Optional[TreeNode]) -> List[int]:\n",
    "        res = []\n",
    "        def travel(node):\n",
    "            if node: \n",
    "                travel(node.left)\n",
    "                travel(node.right)\n",
    "                res.append(node.val)\n",
    "\n",
    "        travel(root)\n",
    "        return res"
   ]
  },
  {
   "cell_type": "code",
   "execution_count": null,
   "id": "706ebdbd",
   "metadata": {},
   "outputs": [],
   "source": [
    "# Definition for a binary tree node.\n",
    "class TreeNode:\n",
    "    def __init__(self, val=0, left=None, right=None):\n",
    "        self.val = val\n",
    "        self.left = left\n",
    "        self.right = right\n",
    "\n",
    "class Solution:\n",
    "    def inorderTraversal(self, root: TreeNode) -> List[int]:\n",
    "        result = []\n",
    "        \n",
    "        def traverse(node):\n",
    "            if node:\n",
    "                traverse(node.left)         # Traverse the left subtree\n",
    "                result.append(node.val)     # Visit the root node\n",
    "                traverse(node.right)        # Traverse the right subtree\n",
    "        \n",
    "        traverse(root)\n",
    "        return result"
   ]
  },
  {
   "cell_type": "code",
   "execution_count": null,
   "id": "7e4518b5",
   "metadata": {},
   "outputs": [],
   "source": [
    "#Minimum Depth of Binary Tree\n",
    "\n",
    "# Definition for a binary tree node.\n",
    "# class TreeNode:\n",
    "#     def __init__(self, val=0, left=None, right=None):\n",
    "#         self.val = val\n",
    "#         self.left = left\n",
    "#         self.right = right\n",
    "class Solution:\n",
    "    def minDepth(self, root: Optional[TreeNode]) -> int:\n",
    "        if not root:\n",
    "            return 0\n",
    "        if not root.left and not root.right:\n",
    "            return 1  # Leaf node\n",
    "        \n",
    "        # If one child is None, ignore it in depth calculation\n",
    "        if not root.left:\n",
    "            return self.minDepth(root.right) + 1\n",
    "        if not root.right:\n",
    "            return self.minDepth(root.left) + 1\n",
    "        \n",
    "        # Return the minimum of both depths\n",
    "        return min(self.minDepth(root.left), self.minDepth(root.right)) + 1"
   ]
  }
 ],
 "metadata": {
  "kernelspec": {
   "display_name": "Python 3 (ipykernel)",
   "language": "python",
   "name": "python3"
  },
  "language_info": {
   "codemirror_mode": {
    "name": "ipython",
    "version": 3
   },
   "file_extension": ".py",
   "mimetype": "text/x-python",
   "name": "python",
   "nbconvert_exporter": "python",
   "pygments_lexer": "ipython3",
   "version": "3.11.7"
  }
 },
 "nbformat": 4,
 "nbformat_minor": 5
}
