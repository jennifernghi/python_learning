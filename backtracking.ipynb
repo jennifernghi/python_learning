{
 "cells": [
  {
   "cell_type": "markdown",
   "id": "1bb56fc2",
   "metadata": {},
   "source": [
    "# Generate Parentheses\n",
    " \n",
    "Given n pairs of parentheses, write a function to generate all combinations of well-formed parentheses.\n",
    "\n",
    " \n",
    "\n",
    "Example 1:\n",
    "\n",
    "Input: n = 3\n",
    "Output: [\"((()))\",\"(()())\",\"(())()\",\"()(())\",\"()()()\"]\n",
    "Example 2:\n",
    "\n",
    "Input: n = 1\n",
    "Output: [\"()\"]\n",
    "\n",
    "\n",
    "Approach:\n",
    "\n",
    "- We can solve this problem using backtracking. The key is to add an opening parenthesis ( when we still have some left to add, and to add a closing parenthesis ) only when it forms a valid combination (i.e., when there are more ( than ) already added).\n",
    "\n",
    "Steps:\n",
    "- Start with an empty string and two counters: one for the remaining open parentheses (open_count) and one for the remaining close parentheses (close_count).\n",
    "- Add an opening parenthesis ( if open_count > 0.\n",
    "- Add a closing parenthesis ) if close_count > 0 and there are more open parentheses used so far.\n",
    "- If both open_count and close_count reach zero, the current string is a valid solution.\n",
    "\n",
    "Explanation:\n",
    "\n",
    "backtrack(current_str, open_count, close_count):\n",
    "\n",
    "- current_str: The current combination of parentheses.\n",
    "- open_count: The number of opening parentheses we can still add.\n",
    "- close_count: The number of closing parentheses we can still add.\n",
    "- The base case is when the length of current_str reaches 2 * n (because there are n open and n close parentheses). At that point, we add the current string to the result.\n",
    "- If there are open parentheses left (open_count > 0), we add an opening parenthesis and recurse.\n",
    "- If there are more closing parentheses left than open parentheses used (close_count > open_count), we add a closing parenthesis and recurse.\n",
    "\n",
    "Example Walkthrough:\n",
    "Example Breakdown for n = 3:\n",
    "\n",
    "- Start with current_str = \"\", open_count = 3, and close_count = 3.\n",
    "- Add '(':\n",
    "    - current_str = \"(\", open_count = 2, close_count = 3.\n",
    "- Add another '(':\n",
    "    - current_str = \"((\", open_count = 1, close_count = 3.\n",
    "- Add another '(':\n",
    "    - current_str = \"(((\", open_count = 0, close_count = 3.\n",
    "- Now, we can't add more '(' (because open_count == 0), so we start adding ')'.\n",
    "- Add ')':\n",
    "    - current_str = \"((()\", open_count = 0, close_count = 2.\n",
    "- Add ')':\n",
    "    - current_str = \"((())\", open_count = 0, close_count = 1.\n",
    "- Add ')':\n",
    "    - current_str = \"((()))\", open_count = 0, close_count = 0.\n",
    "- This is a valid sequence, so we add it to the result.\n",
    "- The recursion then backtracks and explores other valid paths, such as adding ')' at different points to create combinations like \"(()())\", \"(())()\", \"()(())\", and \"()()()\".\n",
    "\n",
    "Time Complexity:\n",
    "- O(4^n / √n): This is a well-known complexity result for generating all combinations of well-formed parentheses.\n",
    "\n",
    "Space Complexity:\n",
    "- O(4^n / √n): This comes from storing all valid combinations in the result list.\n",
    "\n",
    "Why this method generates different combinations:\n",
    "- Order of adding parentheses: By alternating between adding opening and closing parentheses according to the rules, the method explores all valid sequences.\n",
    "- Exploring both branches: At each recursive step, the function tries both adding an opening and a closing parenthesis (when valid), allowing the generation of different combinations.\n"
   ]
  },
  {
   "cell_type": "code",
   "execution_count": 2,
   "id": "d076895a",
   "metadata": {},
   "outputs": [
    {
     "name": "stdout",
     "output_type": "stream",
     "text": [
      "['((()))', '(()())', '(())()', '()(())', '()()()']\n"
     ]
    }
   ],
   "source": [
    "def generateParenthesis(n: int):\n",
    "    result = []\n",
    "    \n",
    "    def backtrack(current_str, open_count, close_count):\n",
    "        if len(current_str) == 2 * n:\n",
    "            result.append(current_str)\n",
    "            return\n",
    "        \n",
    "        # Add an opening parenthesis if we can\n",
    "        if open_count > 0:\n",
    "            backtrack(current_str + '(', open_count - 1, close_count)\n",
    "        \n",
    "        # Add a closing parenthesis if we can and it forms a valid combination\n",
    "        if close_count > open_count:\n",
    "            backtrack(current_str + ')', open_count, close_count - 1)\n",
    "    \n",
    "    # Start the backtracking process\n",
    "    backtrack('', n, n)\n",
    "    return result\n",
    "\n",
    "\n",
    "print(generateParenthesis(3))"
   ]
  },
  {
   "cell_type": "code",
   "execution_count": null,
   "id": "200bd2bd",
   "metadata": {},
   "outputs": [],
   "source": []
  }
 ],
 "metadata": {
  "kernelspec": {
   "display_name": "Python 3 (ipykernel)",
   "language": "python",
   "name": "python3"
  },
  "language_info": {
   "codemirror_mode": {
    "name": "ipython",
    "version": 3
   },
   "file_extension": ".py",
   "mimetype": "text/x-python",
   "name": "python",
   "nbconvert_exporter": "python",
   "pygments_lexer": "ipython3",
   "version": "3.11.7"
  }
 },
 "nbformat": 4,
 "nbformat_minor": 5
}
